{
 "cells": [
  {
   "cell_type": "code",
   "execution_count": 3,
   "metadata": {},
   "outputs": [
    {
     "name": "stdout",
     "output_type": "stream",
     "text": [
      "x is bigger than 5\n"
     ]
    }
   ],
   "source": [
    "x = 10\n",
    "if x > 5:\n",
    "    print('x is bigger than 5')"
   ]
  },
  {
   "cell_type": "code",
   "execution_count": 7,
   "metadata": {},
   "outputs": [
    {
     "name": "stdout",
     "output_type": "stream",
     "text": [
      "Answer will be negative\n",
      "-3\n",
      "Done\n"
     ]
    }
   ],
   "source": [
    "x = 10\n",
    "y = 13\n",
    "if x < y:\n",
    "    print ('Answer will be negative')\n",
    "    print(x - y)\n",
    "print('Done')\n"
   ]
  },
  {
   "cell_type": "code",
   "execution_count": 10,
   "metadata": {},
   "outputs": [
    {
     "name": "stdout",
     "output_type": "stream",
     "text": [
      "X is an odd number\n"
     ]
    }
   ],
   "source": [
    "x = 21\n",
    "if x % 2 == 0:\n",
    "    print('X is an even number')\n",
    "else:\n",
    "    print ('X is an odd number')"
   ]
  },
  {
   "cell_type": "markdown",
   "metadata": {},
   "source": [
    "# if loan_amount >50000 then rate = 3, else rate = 4"
   ]
  },
  {
   "cell_type": "code",
   "execution_count": 14,
   "metadata": {},
   "outputs": [
    {
     "name": "stdout",
     "output_type": "stream",
     "text": [
      "rate is 4\n"
     ]
    }
   ],
   "source": [
    "#type1\n",
    "loan_amount = 45000\n",
    "if loan_amount > 50000:\n",
    "    print('Rate is 3')\n",
    "else:\n",
    "    print ('rate is 4')"
   ]
  },
  {
   "cell_type": "code",
   "execution_count": 23,
   "metadata": {},
   "outputs": [
    {
     "name": "stdout",
     "output_type": "stream",
     "text": [
      "Simple interest is 3214314.08 with Interest Rate = 4%\n"
     ]
    }
   ],
   "source": [
    "#type2\n",
    "p = int(input('Enter loan amount :'))\n",
    "if p > 50000:\n",
    "    r = 3\n",
    "else:\n",
    "    r = 4\n",
    "t = int(input('Enter loan tenure :'))\n",
    "si = p * r * t / 100 \n",
    "print(f'Simple interest is {si} with Interest Rate = {r}%')"
   ]
  },
  {
   "cell_type": "code",
   "execution_count": 19,
   "metadata": {},
   "outputs": [
    {
     "name": "stdout",
     "output_type": "stream",
     "text": [
      "10\n",
      "5\n"
     ]
    }
   ],
   "source": [
    "x = 10\n",
    "if x > 10:\n",
    "    y = 20\n",
    "else:\n",
    "    y = 5 \n",
    "print(x)\n",
    "print(y)"
   ]
  },
  {
   "cell_type": "code",
   "execution_count": 22,
   "metadata": {},
   "outputs": [
    {
     "name": "stdout",
     "output_type": "stream",
     "text": [
      "11 20\n"
     ]
    }
   ],
   "source": [
    "x = 11\n",
    "y = 20 if x > 10 else 5\n",
    "print(x,y)"
   ]
  },
  {
   "cell_type": "code",
   "execution_count": 1,
   "metadata": {},
   "outputs": [
    {
     "name": "stdout",
     "output_type": "stream",
     "text": [
      "You got more than 50% marks\n"
     ]
    }
   ],
   "source": [
    "grade = 'C'\n",
    "if grade == 'o':\n",
    "    print(\"You got more than 90% marks\")\n",
    "elif grade == 'A':\n",
    "    print(\"You got more than 75% marks\")\n",
    "elif grade == 'B':\n",
    "    print(\"You got more than 60% marks\")\n",
    "elif grade == 'C':\n",
    "    print(\"You got more than 50% marks\")\n",
    "elif grade == 'F':\n",
    "    print(\"You failed\")\n"
   ]
  },
  {
   "cell_type": "code",
   "execution_count": 9,
   "metadata": {},
   "outputs": [
    {
     "name": "stdout",
     "output_type": "stream",
     "text": [
      "3rd condition runs\n",
      "59319.5 + 1779.585 + 1186.39 + 2965.9750000000004 => 65251.45\n"
     ]
    }
   ],
   "source": [
    "# step 1: create a var for basic salary\n",
    "bs = 59319.50\n",
    "# step 2: write the condition\n",
    "if bs > 100000:\n",
    "    #step 2.1: create 3 var for bonus , hra , da using maths\n",
    "    print(\"1st condition runs\")\n",
    "    bonus = bs * .2\n",
    "    hra = bs * .15\n",
    "    da = bs* .1\n",
    "#repeat step 2\n",
    "elif bs > 75000:\n",
    "    print(\"2nd condition runs\")\n",
    "    bonus = bs*.1\n",
    "    hra = bs*.08\n",
    "    da = bs*.05\n",
    "elif bs> 50000:\n",
    "    print(\"3rd condition runs\")\n",
    "    bonus = bs*.05\n",
    "    hra = bs*.03\n",
    "    da = bs*.02\n",
    "elif bs< 50000:\n",
    "    print(\"4th condition runs\")\n",
    "    bonus = bs*.01\n",
    "    hra = bs*.05\n",
    "    da = bs*.03\n",
    "ts = bs + bonus + hra + da\n",
    "print (f'{bs} + {hra} + {da} + {bonus} => {ts}')\n"
   ]
  },
  {
   "cell_type": "code",
   "execution_count": 16,
   "metadata": {},
   "outputs": [
    {
     "name": "stdout",
     "output_type": "stream",
     "text": [
      "Pizza cost Rs. 400\n",
      "Not available\n"
     ]
    }
   ],
   "source": [
    "choice = input('What would you like to have ?')\n",
    "match choice:\n",
    "    case\"burger\"|\"Burger\":\n",
    "        print(\"McDonalds burger costs Rs.100\")\n",
    "        print(\"That is not an option\")\n",
    "    case\"Chole bhature\"|\"Ghar ka khana \"|\"mai nahi khata\":\n",
    "        print(\"Chole bhature cost Rs.50\")\n",
    "        print(\"its a valid option\")\n",
    "    case \"pizza\":\n",
    "        print(\"Pizza cost Rs. 400\")\n",
    "        print(\"Not available\")\n",
    "    case \"sandwich\":\n",
    "        print(\"Sandwich cost Rs. 150\")\n",
    "        print(\"Not available\")\n",
    "    case _:\n",
    "       print(\"Invalid Choice\")"
   ]
  },
  {
   "cell_type": "markdown",
   "metadata": {},
   "source": [
    "#nested if"
   ]
  },
  {
   "cell_type": "code",
   "execution_count": 6,
   "metadata": {},
   "outputs": [
    {
     "name": "stdout",
     "output_type": "stream",
     "text": [
      "your details are correct\n",
      "you are registered \n",
      "successfully\n"
     ]
    }
   ],
   "source": [
    "uname =\"ajay\"\n",
    "pwd =\"123123\"\n",
    "cpwd =\"123123\"\n",
    "email =\"ajay111@gmail.com\"\n",
    "if len(uname) > 0 and len(uname) <= 50:\n",
    "    if len(pwd) > 0 and len(pwd) <=12 and uname not in pwd:\n",
    "        if pwd == cpwd:\n",
    "            if '@' in email and '.' in email:\n",
    "                print(\"your details are correct\")\n",
    "                print('you are registered ')\n",
    "                print(\"successfully\")\n",
    "            else:\n",
    "                print(\"invalid email\")\n",
    "        else:\n",
    "            print(\"Password do not match\")\n",
    "\n",
    "    else:\n",
    "        print(\"Invalid password\")\n",
    "else:\n",
    "    print(\"Invalid username\")\n",
    "\n"
   ]
  },
  {
   "cell_type": "code",
   "execution_count": null,
   "metadata": {},
   "outputs": [],
   "source": []
  }
 ],
 "metadata": {
  "kernelspec": {
   "display_name": "base",
   "language": "python",
   "name": "python3"
  },
  "language_info": {
   "codemirror_mode": {
    "name": "ipython",
    "version": 3
   },
   "file_extension": ".py",
   "mimetype": "text/x-python",
   "name": "python",
   "nbconvert_exporter": "python",
   "pygments_lexer": "ipython3",
   "version": "3.11.5"
  }
 },
 "nbformat": 4,
 "nbformat_minor": 2
}
