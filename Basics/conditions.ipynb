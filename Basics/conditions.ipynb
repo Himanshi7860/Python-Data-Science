{
 "cells": [
  {
   "cell_type": "code",
   "execution_count": 3,
   "metadata": {},
   "outputs": [
    {
     "name": "stdout",
     "output_type": "stream",
     "text": [
      "x is bigger than 5\n"
     ]
    }
   ],
   "source": [
    "x = 10\n",
    "if x > 5:\n",
    "    print('x is bigger than 5')"
   ]
  },
  {
   "cell_type": "code",
   "execution_count": 7,
   "metadata": {},
   "outputs": [
    {
     "name": "stdout",
     "output_type": "stream",
     "text": [
      "Answer will be negative\n",
      "-3\n",
      "Done\n"
     ]
    }
   ],
   "source": [
    "x = 10\n",
    "y = 13\n",
    "if x < y:\n",
    "    print ('Answer will be negative')\n",
    "    print(x - y)\n",
    "print('Done')\n"
   ]
  },
  {
   "cell_type": "code",
   "execution_count": 10,
   "metadata": {},
   "outputs": [
    {
     "name": "stdout",
     "output_type": "stream",
     "text": [
      "X is an odd number\n"
     ]
    }
   ],
   "source": [
    "x = 21\n",
    "if x % 2 == 0:\n",
    "    print('X is an even number')\n",
    "else:\n",
    "    print ('X is an odd number')"
   ]
  },
  {
   "cell_type": "markdown",
   "metadata": {},
   "source": [
    "# if loan_amount >50000 then rate = 3, else rate = 4"
   ]
  },
  {
   "cell_type": "code",
   "execution_count": 14,
   "metadata": {},
   "outputs": [
    {
     "name": "stdout",
     "output_type": "stream",
     "text": [
      "rate is 4\n"
     ]
    }
   ],
   "source": [
    "#type1\n",
    "loan_amount = 45000\n",
    "if loan_amount > 50000:\n",
    "    print('Rate is 3')\n",
    "else:\n",
    "    print ('rate is 4')"
   ]
  },
  {
   "cell_type": "code",
   "execution_count": 23,
   "metadata": {},
   "outputs": [
    {
     "name": "stdout",
     "output_type": "stream",
     "text": [
      "Simple interest is 3214314.08 with Interest Rate = 4%\n"
     ]
    }
   ],
   "source": [
    "#type2\n",
    "p = int(input('Enter loan amount :'))\n",
    "if p > 50000:\n",
    "    r = 3\n",
    "else:\n",
    "    r = 4\n",
    "t = int(input('Enter loan tenure :'))\n",
    "si = p * r * t / 100 \n",
    "print(f'Simple interest is {si} with Interest Rate = {r}%')"
   ]
  },
  {
   "cell_type": "code",
   "execution_count": 19,
   "metadata": {},
   "outputs": [
    {
     "name": "stdout",
     "output_type": "stream",
     "text": [
      "10\n",
      "5\n"
     ]
    }
   ],
   "source": [
    "x = 10\n",
    "if x > 10:\n",
    "    y = 20\n",
    "else:\n",
    "    y = 5 \n",
    "print(x)\n",
    "print(y)"
   ]
  },
  {
   "cell_type": "code",
   "execution_count": 22,
   "metadata": {},
   "outputs": [
    {
     "name": "stdout",
     "output_type": "stream",
     "text": [
      "11 20\n"
     ]
    }
   ],
   "source": [
    "x = 11\n",
    "y = 20 if x > 10 else 5\n",
    "print(x,y)"
   ]
  },
  {
   "cell_type": "code",
   "execution_count": null,
   "metadata": {},
   "outputs": [],
   "source": []
  }
 ],
 "metadata": {
  "kernelspec": {
   "display_name": "base",
   "language": "python",
   "name": "python3"
  },
  "language_info": {
   "codemirror_mode": {
    "name": "ipython",
    "version": 3
   },
   "file_extension": ".py",
   "mimetype": "text/x-python",
   "name": "python",
   "nbconvert_exporter": "python",
   "pygments_lexer": "ipython3",
   "version": "3.11.5"
  }
 },
 "nbformat": 4,
 "nbformat_minor": 2
}
