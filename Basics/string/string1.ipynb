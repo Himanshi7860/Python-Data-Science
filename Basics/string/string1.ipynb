{
          "cells": [
                    {
                              "cell_type": "code",
                              "execution_count": null,
                              "metadata": {},
                              "outputs": [],
                              "source": []
                    },
                    {
                              "cell_type": "code",
                              "execution_count": 1,
                              "metadata": {},
                              "outputs": [
                                        {
                                                  "name": "stdout",
                                                  "output_type": "stream",
                                                  "text": [
                                                            "the hippo was 5' tall \n",
                                                            "the hippo was 5'tall\n"
                                                  ]
                                        }
                              ],
                              "source": [
                                        "#msg = 'the hippo was 5' tall'\n",
                                        "msg ='the hippo was 5\\' tall '\n",
                                        "print(msg)\n",
                                        "msg =\"the hippo was 5'tall\"\n",
                                        "print(msg)"
                              ]
                    },
                    {
                              "cell_type": "code",
                              "execution_count": 2,
                              "metadata": {},
                              "outputs": [
                                        {
                                                  "name": "stdout",
                                                  "output_type": "stream",
                                                  "text": [
                                                            "9\n",
                                                            "a\n",
                                                            "l\n",
                                                            "e\n",
                                                            "x\n",
                                                            "n\n",
                                                            "r\n",
                                                            "n\n"
                                                  ]
                                        }
                              ],
                              "source": [
                                        "name ='alexander'\n",
                                        "print(len(name))\n",
                                        "print(name[0])\n",
                                        "print(name[1])\n",
                                        "print(name[2])\n",
                                        "print(name[3])\n",
                                        "print(name[5])\n",
                                        "print(name[-1])\n",
                                        "print(name[-4])\n",
                                        "\n"
                              ]
                    },
                    {
                              "cell_type": "code",
                              "execution_count": 4,
                              "metadata": {},
                              "outputs": [
                                        {
                                                  "name": "stdout",
                                                  "output_type": "stream",
                                                  "text": [
                                                            "a_l_e_x\n"
                                                  ]
                                        }
                              ],
                              "source": [
                                        "print(name[0], name[1],name[2],name[3], sep='_')"
                              ]
                    },
                    {
                              "cell_type": "markdown",
                              "metadata": {},
                              "source": [
                                        "slicing"
                              ]
                    },
                    {
                              "cell_type": "code",
                              "execution_count": 6,
                              "metadata": {},
                              "outputs": [
                                        {
                                                  "data": {
                                                            "text/plain": [
                                                                      "'alexa'"
                                                            ]
                                                  },
                                                  "execution_count": 6,
                                                  "metadata": {},
                                                  "output_type": "execute_result"
                                        }
                              ],
                              "source": [
                                        "name[0:5]#get the values at 0,1,2,3,4(5 is not included)"
                              ]
                    },
                    {
                              "cell_type": "code",
                              "execution_count": 9,
                              "metadata": {},
                              "outputs": [
                                        {
                                                  "data": {
                                                            "text/plain": [
                                                                      "'alexander'"
                                                            ]
                                                  },
                                                  "execution_count": 9,
                                                  "metadata": {},
                                                  "output_type": "execute_result"
                                        }
                              ],
                              "source": [
                                        "name[0:9]#get the values at 0,1,2,3,4(5 is not included)\n"
                              ]
                    },
                    {
                              "cell_type": "code",
                              "execution_count": 10,
                              "metadata": {},
                              "outputs": [
                                        {
                                                  "name": "stdout",
                                                  "output_type": "stream",
                                                  "text": [
                                                            "Leonardo\n",
                                                            "\n",
                                                            "da vinci\n",
                                                            "da\n",
                                                            "da\n",
                                                            "da\n",
                                                            "da\n"
                                                  ]
                                        }
                              ],
                              "source": [
                                        "n2='Leonardo da vinci'\n",
                                        "print(n2[:8])\n",
                                        "print(n2[-5:1])\n",
                                        "print(n2[-8:])\n",
                                        "print(n2[-8:-6])\n",
                                        "print(n2[9:11])\n",
                                        "print(n2[9:-6])\n",
                                        "print(n2[-8:11])\n",
                                        "\n",
                                        "\n",
                                        "\n"
                              ]
                    },
                    {
                              "cell_type": "code",
                              "execution_count": 12,
                              "metadata": {},
                              "outputs": [
                                        {
                                                  "name": "stdout",
                                                  "output_type": "stream",
                                                  "text": [
                                                            "Vijay \n",
                                                            "Deenanath\n",
                                                            "Chauhan\n"
                                                  ]
                                        }
                              ],
                              "source": [
                                        "n3 ='Vijay Deenanath Chauhan'\n",
                                        "print(n3[0:6])\n",
                                        "print(n3[6:15])\n",
                                        "print(n3[16:])"
                              ]
                    },
                    {
                              "cell_type": "markdown",
                              "metadata": {},
                              "source": [
                                        "slicing with steps"
                              ]
                    },
                    {
                              "cell_type": "code",
                              "execution_count": 13,
                              "metadata": {},
                              "outputs": [
                                        {
                                                  "data": {
                                                            "text/plain": [
                                                                      "'Vijay Deenanath Chauhan'"
                                                            ]
                                                  },
                                                  "execution_count": 13,
                                                  "metadata": {},
                                                  "output_type": "execute_result"
                                        }
                              ],
                              "source": [
                                        "n3[::]"
                              ]
                    },
                    {
                              "cell_type": "code",
                              "execution_count": 14,
                              "metadata": {},
                              "outputs": [
                                        {
                                                  "data": {
                                                            "text/plain": [
                                                                      "'ia ennt hua'"
                                                            ]
                                                  },
                                                  "execution_count": 14,
                                                  "metadata": {},
                                                  "output_type": "execute_result"
                                        }
                              ],
                              "source": [
                                        "n3[1::2]"
                              ]
                    },
                    {
                              "cell_type": "code",
                              "execution_count": 15,
                              "metadata": {},
                              "outputs": [
                                        {
                                                  "data": {
                                                            "text/plain": [
                                                                      "'eao'"
                                                            ]
                                                  },
                                                  "execution_count": 15,
                                                  "metadata": {},
                                                  "output_type": "execute_result"
                                        }
                              ],
                              "source": [
                                        "n2[1: 10: 3] #1 , 4 , 7,(stop at 10)"
                              ]
                    },
                    {
                              "cell_type": "code",
                              "execution_count": 16,
                              "metadata": {},
                              "outputs": [
                                        {
                                                  "data": {
                                                            "text/plain": [
                                                                      "'icniv ad odranoeL'"
                                                            ]
                                                  },
                                                  "execution_count": 16,
                                                  "metadata": {},
                                                  "output_type": "execute_result"
                                        }
                              ],
                              "source": [
                                        "n2[::-1] #reverse the string"
                              ]
                    },
                    {
                              "cell_type": "code",
                              "execution_count": 18,
                              "metadata": {},
                              "outputs": [
                                        {
                                                  "name": "stdout",
                                                  "output_type": "stream",
                                                  "text": [
                                                            "this is a quote from brandon sanderson,\n",
                                                            "\"the purpose of a storyteller is not to tell you how to think ,\n",
                                                            "but to give you questions think upon .\n",
                                                            "first 50 letters\n",
                                                            "this is a quote from brandon sanderson,\n",
                                                            "\"the purpo\n"
                                                  ]
                                        }
                              ],
                              "source": [
                                        "quote = '''this is a quote from brandon sanderson,\n",
                                        "\"the purpose of a storyteller is not to tell you how to think ,\n",
                                        "but to give you questions think upon .'''\n",
                                        "print(quote)\n",
                                        "\n",
                                        "print('first 50 letters')\n",
                                        "print(quote[:50])"
                              ]
                    },
                    {
                              "cell_type": "markdown",
                              "metadata": {},
                              "source": [
                                        "hw questions"
                              ]
                    },
                    {
                              "cell_type": "code",
                              "execution_count": 19,
                              "metadata": {},
                              "outputs": [
                                        {
                                                  "name": "stdout",
                                                  "output_type": "stream",
                                                  "text": [
                                                            "1 2 3 5 8 13 21 34 55 89 144 233 "
                                                  ]
                                        }
                              ],
                              "source": [
                                        "#fibonacci sequence 1,2, 4 , 5, 8 ,13,21\n",
                                        "a,b = 1,2\n",
                                        "print(a,b, end=' ')\n",
                                        "for i in range (10):\n",
                                        "    c = a+b\n",
                                        "    print(c, end=' ')\n",
                                        "    #swap values\n",
                                        "    a = b #a=3\n",
                                        "    b = c #b = 5"
                              ]
                    },
                    {
                              "cell_type": "code",
                              "execution_count": 20,
                              "metadata": {},
                              "outputs": [
                                        {
                                                  "name": "stdout",
                                                  "output_type": "stream",
                                                  "text": [
                                                            "65 97 128522\n",
                                                            "A a #\n"
                                                  ]
                                        }
                              ],
                              "source": [
                                        "print(ord('A'),ord('a'),ord('😊'))\n",
                                        "print(chr(65),chr(97),chr(35)) #unicode "
                              ]
                    },
                    {
                              "cell_type": "markdown",
                              "metadata": {},
                              "source": []
                    },
                    {
                              "cell_type": "markdown",
                              "metadata": {},
                              "source": []
                    },
                    {
                              "cell_type": "code",
                              "execution_count": null,
                              "metadata": {},
                              "outputs": [],
                              "source": []
                    },
                    {
                              "cell_type": "code",
                              "execution_count": null,
                              "metadata": {},
                              "outputs": [],
                              "source": []
                    }
          ],
          "metadata": {
                    "kernelspec": {
                              "display_name": "base",
                              "language": "python",
                              "name": "python3"
                    },
                    "language_info": {
                              "codemirror_mode": {
                                        "name": "ipython",
                                        "version": 3
                              },
                              "file_extension": ".py",
                              "mimetype": "text/x-python",
                              "name": "python",
                              "nbconvert_exporter": "python",
                              "pygments_lexer": "ipython3",
                              "version": "3.11.5"
                    }
          },
          "nbformat": 4,
          "nbformat_minor": 2
}
