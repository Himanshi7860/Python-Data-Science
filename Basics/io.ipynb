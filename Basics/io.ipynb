{
 "cells": [
  {
   "cell_type": "code",
   "execution_count": 1,
   "metadata": {},
   "outputs": [],
   "source": [
    "name = input('Enter your name')"
   ]
  },
  {
   "cell_type": "code",
   "execution_count": 2,
   "metadata": {},
   "outputs": [],
   "source": [
    "college = input('Enter your college name')\n",
    "city = input('Enter your city')"
   ]
  },
  {
   "cell_type": "code",
   "execution_count": 3,
   "metadata": {},
   "outputs": [
    {
     "name": "stdout",
     "output_type": "stream",
     "text": [
      "Himanshi JNPG Lucknow\n"
     ]
    }
   ],
   "source": [
    "print( name, college, city)"
   ]
  },
  {
   "cell_type": "code",
   "execution_count": 1,
   "metadata": {},
   "outputs": [
    {
     "name": "stdout",
     "output_type": "stream",
     "text": [
      "this is an apple\n"
     ]
    }
   ],
   "source": [
    "print('this is an apple')"
   ]
  },
  {
   "cell_type": "code",
   "execution_count": 13,
   "metadata": {},
   "outputs": [
    {
     "name": "stdout",
     "output_type": "stream",
     "text": [
      "this is an apple it costs 900 rupees\n"
     ]
    }
   ],
   "source": [
    "qty = 10\n",
    "price= 90*qty\n",
    "print ('this is an apple','it costs',price,'rupees')"
   ]
  },
  {
   "cell_type": "code",
   "execution_count": 14,
   "metadata": {},
   "outputs": [
    {
     "name": "stdout",
     "output_type": "stream",
     "text": [
      "this is an 🍎. 10 kg costs 900 rupees\n"
     ]
    }
   ],
   "source": [
    "print('this is an 🍎.',qty,'kg costs',price,'rupees')"
   ]
  },
  {
   "cell_type": "markdown",
   "metadata": {},
   "source": [
    "f-string"
   ]
  },
  {
   "cell_type": "code",
   "execution_count": 19,
   "metadata": {},
   "outputs": [
    {
     "data": {
      "text/plain": [
       "'this is an apple. 10 kg costs 900 rupees'"
      ]
     },
     "execution_count": 19,
     "metadata": {},
     "output_type": "execute_result"
    }
   ],
   "source": [
    "f\"this is an apple. {qty} kg costs {price} rupees\""
   ]
  },
  {
   "cell_type": "code",
   "execution_count": 24,
   "metadata": {},
   "outputs": [
    {
     "name": "stdout",
     "output_type": "stream",
     "text": [
      "the answer is 3.33\n",
      "10/3=3.333\n",
      "this was good\n"
     ]
    }
   ],
   "source": [
    "x=10\n",
    "y=3\n",
    "z=x/y\n",
    "print(f'the answer is {z:.2f}')\n",
    "print(f'{x}/{y}={z:.3f}')\n",
    "print('this was good')"
   ]
  },
  {
   "cell_type": "code",
   "execution_count": 25,
   "metadata": {},
   "outputs": [
    {
     "name": "stdout",
     "output_type": "stream",
     "text": [
      "Raj 3 chars\n",
      "Rajan 5 chars\n",
      "Rajeshwari 10 chars\n"
     ]
    }
   ],
   "source": [
    "n1 , n2 , n3 ='Raj','Rajan','Rajeshwari'\n",
    "print(n1, len(n1), 'chars')\n",
    "print(n2, len(n2),'chars')\n",
    "print(n3, len(n3),'chars')\n"
   ]
  },
  {
   "cell_type": "code",
   "execution_count": 27,
   "metadata": {},
   "outputs": [
    {
     "name": "stdout",
     "output_type": "stream",
     "text": [
      "Raj             3 chars\n",
      "Rajan           5 chars\n",
      "Rajeshwari      10 chars\n"
     ]
    }
   ],
   "source": [
    "print(f'{n1:15} {len(n1)} chars')\n",
    "print(f'{n2:15} {len(n2)} chars')\n",
    "print(f'{n3:15} {len(n3)} chars')\n"
   ]
  },
  {
   "cell_type": "code",
   "execution_count": 32,
   "metadata": {},
   "outputs": [
    {
     "name": "stdout",
     "output_type": "stream",
     "text": [
      "   Raj    3 chars\n",
      "  Rajan   5 chars\n",
      "Rajeshwari 10 chars\n"
     ]
    }
   ],
   "source": [
    "print(f'{n1:^9} {len(n1)} chars')\n",
    "print(f'{n2:^9} {len(n2)} chars')\n",
    "print(f'{n3:^9} {len(n3)} chars')\n"
   ]
  },
  {
   "cell_type": "code",
   "execution_count": 31,
   "metadata": {},
   "outputs": [
    {
     "name": "stdout",
     "output_type": "stream",
     "text": [
      "      Raj 3 chars\n",
      "    Rajan 5 chars\n",
      "Rajeshwari 10 chars\n"
     ]
    }
   ],
   "source": [
    "print(f'{n1:>9} {len(n1)} chars')\n",
    "print(f'{n2:>9} {len(n2)} chars')\n",
    "print(f'{n3:>9} {len(n3)} chars')\n"
   ]
  },
  {
   "cell_type": "code",
   "execution_count": 33,
   "metadata": {},
   "outputs": [
    {
     "data": {
      "text/plain": [
       "10.0"
      ]
     },
     "execution_count": 33,
     "metadata": {},
     "output_type": "execute_result"
    }
   ],
   "source": [
    "x = 10\n",
    "float(x)"
   ]
  },
  {
   "cell_type": "code",
   "execution_count": 38,
   "metadata": {},
   "outputs": [
    {
     "data": {
      "text/plain": [
       "10.5"
      ]
     },
     "execution_count": 38,
     "metadata": {},
     "output_type": "execute_result"
    }
   ],
   "source": [
    "x = '10.5'\n",
    "float(x)"
   ]
  },
  {
   "cell_type": "code",
   "execution_count": 40,
   "metadata": {},
   "outputs": [
    {
     "name": "stdout",
     "output_type": "stream",
     "text": [
      "9\n"
     ]
    }
   ],
   "source": [
    "data = '1000101'\n",
    "int(data)\n",
    "data = '1001'\n",
    "print(int(data,2))"
   ]
  },
  {
   "cell_type": "code",
   "execution_count": 41,
   "metadata": {},
   "outputs": [
    {
     "data": {
      "text/plain": [
       "'1290310'"
      ]
     },
     "execution_count": 41,
     "metadata": {},
     "output_type": "execute_result"
    }
   ],
   "source": [
    "data = 1290310\n",
    "str(data)"
   ]
  },
  {
   "cell_type": "code",
   "execution_count": 43,
   "metadata": {},
   "outputs": [
    {
     "data": {
      "text/plain": [
       "24"
      ]
     },
     "execution_count": 43,
     "metadata": {},
     "output_type": "execute_result"
    }
   ],
   "source": [
    "a = int(input('Enter A:'))\n",
    "b = int(input('Enter B:'))\n",
    "a + b\n",
    "\n"
   ]
  },
  {
   "cell_type": "code",
   "execution_count": 44,
   "metadata": {},
   "outputs": [
    {
     "data": {
      "text/plain": [
       "'10002000'"
      ]
     },
     "execution_count": 44,
     "metadata": {},
     "output_type": "execute_result"
    }
   ],
   "source": [
    "'1000' + '2000'"
   ]
  },
  {
   "cell_type": "markdown",
   "metadata": {},
   "source": [
    "# wap to find out the simple interest, by taking user input fot principal ,rate and time\n"
   ]
  },
  {
   "cell_type": "markdown",
   "metadata": {},
   "source": []
  },
  {
   "cell_type": "code",
   "execution_count": 51,
   "metadata": {},
   "outputs": [
    {
     "name": "stdout",
     "output_type": "stream",
     "text": [
      "Principal =12\n",
      "Rate = 23.0%\n",
      "years =56\n",
      "Simple Interest =154.56\n"
     ]
    }
   ],
   "source": [
    "principal = int(input('Enter principal'))\n",
    "rate = float(input('Enter rate'))\n",
    "time =int(input('Enter time'))\n",
    "si = principal * rate * time /100\n",
    "print(f'Principal ={principal}')\n",
    "print(f'Rate = {rate}%')\n",
    "print(f'years ={time}')\n",
    "print(f'Simple Interest ={si:.2f}')\n",
    "\n",
    "\n"
   ]
  },
  {
   "cell_type": "code",
   "execution_count": null,
   "metadata": {},
   "outputs": [],
   "source": []
  }
 ],
 "metadata": {
  "kernelspec": {
   "display_name": "base",
   "language": "python",
   "name": "python3"
  },
  "language_info": {
   "codemirror_mode": {
    "name": "ipython",
    "version": 3
   },
   "file_extension": ".py",
   "mimetype": "text/x-python",
   "name": "python",
   "nbconvert_exporter": "python",
   "pygments_lexer": "ipython3",
   "version": "3.11.5"
  }
 },
 "nbformat": 4,
 "nbformat_minor": 2
}
