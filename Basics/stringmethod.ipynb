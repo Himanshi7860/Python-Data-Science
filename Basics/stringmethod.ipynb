{
 "cells": [
  {
   "cell_type": "markdown",
   "metadata": {},
   "source": [
    "function vs methods\n",
    "\n",
    "- functions \n",
    "  - functions are a block that does a particular operation and returns a result.\n",
    "  - functions are used directly without the need of creating a variable (object)first\n",
    "  \n",
    "\n",
    "- methods\n",
    "  - methods are functions that are associated withan invariable (object)\n",
    "  - methods cannot be used directly\n",
    "  - they need to be called using the variable(object) they are associated with"
   ]
  },
  {
   "cell_type": "code",
   "execution_count": 3,
   "metadata": {},
   "outputs": [
    {
     "name": "stdout",
     "output_type": "stream",
     "text": [
      "11\n",
      "HELLO WORLD\n"
     ]
    }
   ],
   "source": [
    "print(len(\"Hello world\"))\n",
    "print(\"Hello world\".upper())"
   ]
  },
  {
   "cell_type": "markdown",
   "metadata": {},
   "source": [
    "string methods\n",
    "- formatting functions\n",
    "   - upper()\n",
    "   - lower()\n",
    "   - capitalize()\n",
    "   - title()\n",
    "   - swapcase()\n",
    "   - casefold()\n",
    "- validation()\n",
    "   - isalpha()\n",
    "   - isalnum()\n",
    "   - isnumeric()\n",
    "   - startswitch()\n",
    "   - endswitch()\n",
    "   - islower()\n",
    "- searching()✨\n",
    "   - find()\n",
    "   - count()\n",
    "   - replace()\n",
    "- utility()✨\n",
    "   - split()\n",
    "   - join()\n",
    "   - strip()\n",
    "   - removeprefix()\n",
    "   - removesuffix()"
   ]
  },
  {
   "cell_type": "code",
   "execution_count": 5,
   "metadata": {},
   "outputs": [
    {
     "name": "stdout",
     "output_type": "stream",
     "text": [
      "this is sparta\n",
      "THIS IS SPARTA\n",
      "This is sparta\n",
      "This Is Sparta\n",
      "tHIS IS SPARTA\n",
      "this is sparta\n"
     ]
    }
   ],
   "source": [
    "\n",
    "msg = \"This is sparta\"\n",
    "#msg = msg.lower()\n",
    "#print(msg)\n",
    "print(msg.lower())\n",
    "print(msg.upper())\n",
    "print(msg.capitalize())\n",
    "print(msg.title())\n",
    "print(msg.swapcase())\n",
    "print(msg.casefold())\n",
    "\n"
   ]
  },
  {
   "cell_type": "code",
   "execution_count": 18,
   "metadata": {},
   "outputs": [
    {
     "name": "stdout",
     "output_type": "stream",
     "text": [
      "True\n",
      "False\n",
      "False\n",
      "True\n",
      "False\n",
      "False\n",
      "False\n",
      "True\n",
      "True\n"
     ]
    }
   ],
   "source": [
    "print(\"abc\".isalpha())\n",
    "print(\"abc iplc\".isalpha())\n",
    "print(\"1ws hik\".isalpha())\n",
    "print(\"123\".isnumeric())\n",
    "print(\"apple123\".isnumeric())\n",
    "print(\"3.14\".isdigit())\n",
    "print(\"3,14\".isnumeric())\n",
    "print(\"12monkeys\".isalnum())\n",
    "print(\" \".isspace())\n",
    "\n",
    "\n",
    "\n",
    "\n",
    "\n",
    "\n",
    "\n",
    "\n",
    "\n",
    "\n",
    "\n",
    "\n"
   ]
  },
  {
   "cell_type": "code",
   "execution_count": 22,
   "metadata": {},
   "outputs": [
    {
     "name": "stdout",
     "output_type": "stream",
     "text": [
      "input is correct\n"
     ]
    }
   ],
   "source": [
    "num1 = input('enter a number')\n",
    "if num1.isnumeric():\n",
    "    print('input is correct')\n",
    "    num1 = int(num1)\n",
    "else:\n",
    "    print('input is not correct')\n"
   ]
  },
  {
   "cell_type": "code",
   "execution_count": 24,
   "metadata": {},
   "outputs": [
    {
     "data": {
      "text/plain": [
       "True"
      ]
     },
     "execution_count": 24,
     "metadata": {},
     "output_type": "execute_result"
    }
   ],
   "source": [
    "name = 'Christopher Brooks'\n",
    "name.startswith('Chris')"
   ]
  },
  {
   "cell_type": "code",
   "execution_count": 29,
   "metadata": {},
   "outputs": [
    {
     "name": "stdout",
     "output_type": "stream",
     "text": [
      "Chris\n",
      "Christina\n",
      "Christian\n"
     ]
    }
   ],
   "source": [
    "names =['Chris','Christina','Christian','Krishna']\n",
    "for name in names:\n",
    "    if name.startswith('Ch'):\n",
    "        print(name)\n",
    "               "
   ]
  },
  {
   "cell_type": "code",
   "execution_count": 35,
   "metadata": {},
   "outputs": [
    {
     "name": "stdout",
     "output_type": "stream",
     "text": [
      "-1\n",
      "10\n",
      "-1\n",
      "-1\n",
      "47\n",
      "-1\n"
     ]
    }
   ],
   "source": [
    "data = 'this is along string with some contents and is simple string'\n",
    "print(data.find('the'))\n",
    "print(data.find('on'))\n",
    "print(data.find('on,15'))\n",
    "print(data.find('on,15'))\n",
    "print(data.find('simple'))\n",
    "print(data.find('simple',5,30))\n",
    "\n"
   ]
  },
  {
   "cell_type": "code",
   "execution_count": 37,
   "metadata": {},
   "outputs": [
    {
     "name": "stdout",
     "output_type": "stream",
     "text": [
      "3\n",
      "2\n",
      "1\n",
      "2\n",
      "0\n"
     ]
    }
   ],
   "source": [
    "print(data.count('is'))\n",
    "print(data.count('a'))\n",
    "print(data.count('simple'))\n",
    "print(data.count('on'))\n",
    "print(data.count('scan'))"
   ]
  },
  {
   "cell_type": "code",
   "execution_count": 38,
   "metadata": {},
   "outputs": [
    {
     "data": {
      "text/plain": [
       "'thwas was along string with some contents and was simple string'"
      ]
     },
     "execution_count": 38,
     "metadata": {},
     "output_type": "execute_result"
    }
   ],
   "source": [
    "data.replace('is','was')\n"
   ]
  },
  {
   "cell_type": "code",
   "execution_count": 39,
   "metadata": {},
   "outputs": [
    {
     "data": {
      "text/plain": [
       "'thas as along strang wath somo contonts and as samplo strang'"
      ]
     },
     "execution_count": 39,
     "metadata": {},
     "output_type": "execute_result"
    }
   ],
   "source": [
    "data.replace('i','a').replace('e','o')"
   ]
  },
  {
   "cell_type": "code",
   "execution_count": 40,
   "metadata": {},
   "outputs": [
    {
     "data": {
      "text/plain": [
       "'th s  s al ng str ng w th s m c ntnts and  s s mpl str ng'"
      ]
     },
     "execution_count": 40,
     "metadata": {},
     "output_type": "execute_result"
    }
   ],
   "source": [
    "data.replace('i',' ').replace('e','').replace('o',' ')"
   ]
  },
  {
   "cell_type": "code",
   "execution_count": 44,
   "metadata": {},
   "outputs": [
    {
     "name": "stdout",
     "output_type": "stream",
     "text": [
      "['this', 'is', 'along', 'string', 'with', 'some', 'contents', 'and', 'is', 'simple', 'string']\n",
      "['th', 's ', 's along str', 'ng w', 'th some contents and ', 's s', 'mple str', 'ng']\n",
      "['this', 'is', 'along', 'string with some contents and is simple string']\n"
     ]
    },
    {
     "data": {
      "text/plain": [
       "['apple ', ' banana ', ' orange']"
      ]
     },
     "execution_count": 44,
     "metadata": {},
     "output_type": "execute_result"
    }
   ],
   "source": [
    "print(data.split())\n",
    "print(data.split('i'))\n",
    "print(data.split(maxsplit=3))\n",
    "\"apple , banana , orange\".split(',')\n"
   ]
  },
  {
   "cell_type": "code",
   "execution_count": 47,
   "metadata": {},
   "outputs": [
    {
     "name": "stdout",
     "output_type": "stream",
     "text": [
      "11\n"
     ]
    }
   ],
   "source": [
    "print(len(data.split()))"
   ]
  },
  {
   "cell_type": "code",
   "execution_count": 49,
   "metadata": {},
   "outputs": [
    {
     "name": "stdout",
     "output_type": "stream",
     "text": [
      "1 2 3 4 5 6\n",
      "1 2 3 4 5 6\n",
      "1,2,3,4,5,6\n",
      "1-x-x2-x-x3-x-x4-x-x5-x-x6\n",
      "1_2_3_4_5_6\n"
     ]
    }
   ],
   "source": [
    "x = ['1','2','3','4','5','6']\n",
    "print(\" \".join(x))\n",
    "print(\" \".join(x))\n",
    "print(\",\".join(x))\n",
    "print(\"-x-x\".join(x))\n",
    "print(\"_\".join(x))\n"
   ]
  },
  {
   "cell_type": "code",
   "execution_count": null,
   "metadata": {},
   "outputs": [],
   "source": []
  }
 ],
 "metadata": {
  "kernelspec": {
   "display_name": "base",
   "language": "python",
   "name": "python3"
  },
  "language_info": {
   "codemirror_mode": {
    "name": "ipython",
    "version": 3
   },
   "file_extension": ".py",
   "mimetype": "text/x-python",
   "name": "python",
   "nbconvert_exporter": "python",
   "pygments_lexer": "ipython3",
   "version": "3.11.5"
  }
 },
 "nbformat": 4,
 "nbformat_minor": 2
}
