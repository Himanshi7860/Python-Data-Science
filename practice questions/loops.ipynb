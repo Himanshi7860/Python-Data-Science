{
 "cells": [
  {
   "cell_type": "markdown",
   "metadata": {},
   "source": [
    "- write a program to print numbers from 1 to 10 using for loop"
   ]
  },
  {
   "cell_type": "code",
   "execution_count": 1,
   "metadata": {},
   "outputs": [
    {
     "name": "stdout",
     "output_type": "stream",
     "text": [
      "1\n",
      "2\n",
      "3\n",
      "4\n",
      "5\n",
      "6\n",
      "7\n",
      "8\n",
      "9\n",
      "10\n"
     ]
    }
   ],
   "source": [
    "\n",
    "for i in range(1, 11):\n",
    "    print(i)\n"
   ]
  },
  {
   "cell_type": "markdown",
   "metadata": {},
   "source": [
    "- WAP to print the multiplication table of a given number using a while loop"
   ]
  },
  {
   "cell_type": "code",
   "execution_count": 2,
   "metadata": {},
   "outputs": [
    {
     "name": "stdout",
     "output_type": "stream",
     "text": [
      "Multiplication table of 9 :\n",
      "9 x 1 = 9\n",
      "9 x 2 = 18\n",
      "9 x 3 = 27\n",
      "9 x 4 = 36\n",
      "9 x 5 = 45\n",
      "9 x 6 = 54\n",
      "9 x 7 = 63\n",
      "9 x 8 = 72\n",
      "9 x 9 = 81\n",
      "9 x 10 = 90\n"
     ]
    }
   ],
   "source": [
    "# Program to print the multiplication table of a given number using a while loop\n",
    "\n",
    "# Input the number for which multiplication table is required\n",
    "num = int(input(\"Enter the number: \"))\n",
    "\n",
    "# Initialize the counter\n",
    "i = 1\n",
    "\n",
    "# Print the multiplication table using a while loop\n",
    "print(\"Multiplication table of\", num, \":\")\n",
    "while i <= 10:\n",
    "    print(num, \"x\", i, \"=\", num * i)\n",
    "    i += 1\n"
   ]
  },
  {
   "cell_type": "markdown",
   "metadata": {},
   "source": [
    "- WAP to find the sum of all even numbers between 1 and 100 using a for loop"
   ]
  },
  {
   "cell_type": "code",
   "execution_count": 3,
   "metadata": {},
   "outputs": [
    {
     "name": "stdout",
     "output_type": "stream",
     "text": [
      "The sum of even numbers between 1 and 100 is: 2550\n"
     ]
    }
   ],
   "source": [
    "# Initialize a variable to store the sum\n",
    "sum_of_evens = 0\n",
    "\n",
    "# Iterate through numbers from 1 to 100 using a for loop\n",
    "for num in range(1, 101):\n",
    "    # Check if the number is even\n",
    "    if num % 2 == 0:\n",
    "        # If the number is even, add it to the sum\n",
    "        sum_of_evens += num\n",
    "\n",
    "# Print the sum of even numbers\n",
    "print(\"The sum of even numbers between 1 and 100 is:\", sum_of_evens)\n"
   ]
  },
  {
   "cell_type": "markdown",
   "metadata": {},
   "source": [
    "- WAP to find the sum of all even numbers between 1 and 100 using a for loop"
   ]
  },
  {
   "cell_type": "code",
   "execution_count": 4,
   "metadata": {},
   "outputs": [
    {
     "name": "stdout",
     "output_type": "stream",
     "text": [
      "The sum of even numbers between 1 and 100 is: 87320222991405539433028403882780874236552621386983957011184918881894400000000000000\n"
     ]
    }
   ],
   "source": [
    "# Initialize a variable to store the sum\n",
    "multiplication_of_evens = 0\n",
    "\n",
    "# Iterate through numbers from 1 to 100 using a for loop\n",
    "for num in range(1, 101):\n",
    "    # Check if the number is even\n",
    "    if num % 2 == 0:\n",
    "        # If the number is even, add it to the sum\n",
    "        sum_of_evens *= num\n",
    "\n",
    "# Print the sum of even numbers\n",
    "print(\"The sum of even numbers between 1 and 100 is:\", sum_of_evens)\n"
   ]
  },
  {
   "cell_type": "markdown",
   "metadata": {},
   "source": [
    "- WAP to find if the given number is prime or not using a while loop"
   ]
  },
  {
   "cell_type": "code",
   "execution_count": 6,
   "metadata": {},
   "outputs": [
    {
     "name": "stdout",
     "output_type": "stream",
     "text": [
      "71 is a prime number.\n"
     ]
    }
   ],
   "source": [
    "# Input the number from the user\n",
    "num = int(input(\"Enter a number: \"))\n",
    "\n",
    "# Check if the number is prime\n",
    "is_prime = True\n",
    "divisor = 2\n",
    "\n",
    "while divisor * divisor <= num:\n",
    "    if num % divisor == 0:\n",
    "        is_prime = False\n",
    "        break\n",
    "    divisor += 1\n",
    "\n",
    "# Print the result\n",
    "if is_prime and num > 1:\n",
    "    print(num, \"is a prime number.\")\n",
    "else:\n",
    "    print(num, \"is not a prime number.\")\n"
   ]
  },
  {
   "cell_type": "code",
   "execution_count": 7,
   "metadata": {},
   "outputs": [
    {
     "name": "stdout",
     "output_type": "stream",
     "text": [
      "The factorial of 8 is: 40320\n"
     ]
    }
   ],
   "source": [
    "# Input the number from the user\n",
    "num = int(input(\"Enter a number: \"))\n",
    "\n",
    "# Initialize factorial to 1\n",
    "factorial = 1\n",
    "\n",
    "# Calculate factorial using a for loop\n",
    "for i in range(1, num + 1):\n",
    "    factorial *= i\n",
    "\n",
    "# Print the result\n",
    "print(\"The factorial of\", num, \"is:\", factorial)\n"
   ]
  },
  {
   "cell_type": "markdown",
   "metadata": {},
   "source": [
    "- WAP to print the Fibonacci series up to a given limit using a for loop"
   ]
  },
  {
   "cell_type": "code",
   "execution_count": 9,
   "metadata": {},
   "outputs": [
    {
     "name": "stdout",
     "output_type": "stream",
     "text": [
      "Fibonacci series up to 5 :\n",
      "0 1 1 2 3 "
     ]
    }
   ],
   "source": [
    "# Function to generate Fibonacci series up to a given limit\n",
    "def fibonacci_series(limit):\n",
    "    # Initialize the first two Fibonacci numbers\n",
    "    fib1, fib2 = 0, 1\n",
    "    \n",
    "    # Print the first two Fibonacci numbers\n",
    "    print(fib1, end=\" \")\n",
    "    print(fib2, end=\" \")\n",
    "    \n",
    "    # Generate subsequent Fibonacci numbers using a for loop\n",
    "    for _ in range(2, limit):\n",
    "        fib_next = fib1 + fib2\n",
    "        # Print the next Fibonacci number\n",
    "        print(fib_next, end=\" \")\n",
    "        # Update fib1 and fib2 for the next iteration\n",
    "        fib1, fib2 = fib2, fib_next\n",
    "\n",
    "# Input the limit from the user\n",
    "limit = int(input(\"Enter the limit for the Fibonacci series: \"))\n",
    "\n",
    "# Print the Fibonacci series up to the given limit\n",
    "print(\"Fibonacci series up to\", limit, \":\")\n",
    "fibonacci_series(limit)\n"
   ]
  },
  {
   "cell_type": "markdown",
   "metadata": {},
   "source": [
    "- WAP to find the largest element in an array using for loop"
   ]
  },
  {
   "cell_type": "code",
   "execution_count": 11,
   "metadata": {},
   "outputs": [
    {
     "name": "stdout",
     "output_type": "stream",
     "text": [
      "The largest element in the array is: 18\n"
     ]
    }
   ],
   "source": [
    "# Input the array from the user\n",
    "arr = list(map(int, input(\"Enter the elements of the array separated by space: \").split()))\n",
    "\n",
    "# Initialize the largest element with the first element of the array\n",
    "largest_element = arr[0]\n",
    "\n",
    "# Iterate through the array using a for loop\n",
    "for num in arr:\n",
    "    # Compare each element with the current largest element\n",
    "    if num > largest_element:\n",
    "        largest_element = num\n",
    "\n",
    "# Print the largest element\n",
    "print(\"The largest element in the array is:\", largest_element)\n"
   ]
  },
  {
   "cell_type": "markdown",
   "metadata": {},
   "source": [
    "- WAP to prind the ASCII values of all uppercase letters using a for loop"
   ]
  },
  {
   "cell_type": "code",
   "execution_count": 12,
   "metadata": {},
   "outputs": [
    {
     "name": "stdout",
     "output_type": "stream",
     "text": [
      "ASCII values of uppercase letters:\n",
      "A: 65\n",
      "B: 66\n",
      "C: 67\n",
      "D: 68\n",
      "E: 69\n",
      "F: 70\n",
      "G: 71\n",
      "H: 72\n",
      "I: 73\n",
      "J: 74\n",
      "K: 75\n",
      "L: 76\n",
      "M: 77\n",
      "N: 78\n",
      "O: 79\n",
      "P: 80\n",
      "Q: 81\n",
      "R: 82\n",
      "S: 83\n",
      "T: 84\n",
      "U: 85\n",
      "V: 86\n",
      "W: 87\n",
      "X: 88\n",
      "Y: 89\n",
      "Z: 90\n"
     ]
    }
   ],
   "source": [
    "# Iterate through uppercase letters using a for loop\n",
    "print(\"ASCII values of uppercase letters:\")\n",
    "for char in range(ord('A'), ord('Z') + 1):\n",
    "    print(f\"{chr(char)}: {char}\")\n"
   ]
  },
  {
   "cell_type": "markdown",
   "metadata": {},
   "source": [
    "- WAP to prind the ASCII values of all uppercase letters using a for loop"
   ]
  },
  {
   "cell_type": "code",
   "execution_count": 13,
   "metadata": {},
   "outputs": [
    {
     "name": "stdout",
     "output_type": "stream",
     "text": [
      "ASCII values of lowercase letters:\n",
      "a: 97\n",
      "b: 98\n",
      "c: 99\n",
      "d: 100\n",
      "e: 101\n",
      "f: 102\n",
      "g: 103\n",
      "h: 104\n",
      "i: 105\n",
      "j: 106\n",
      "k: 107\n",
      "l: 108\n",
      "m: 109\n",
      "n: 110\n",
      "o: 111\n",
      "p: 112\n",
      "q: 113\n",
      "r: 114\n",
      "s: 115\n",
      "t: 116\n",
      "u: 117\n",
      "v: 118\n",
      "w: 119\n",
      "x: 120\n",
      "y: 121\n",
      "z: 122\n"
     ]
    }
   ],
   "source": [
    "# Iterate through uppercase letters using a for loop\n",
    "print(\"ASCII values of lowercase letters:\")\n",
    "for char in range(ord('a'), ord('z') + 1):\n",
    "    print(f\"{chr(char)}: {char}\")\n"
   ]
  },
  {
   "cell_type": "markdown",
   "metadata": {},
   "source": [
    "- WAP to check if the string is  a palindrome using a for loop"
   ]
  },
  {
   "cell_type": "code",
   "execution_count": 14,
   "metadata": {},
   "outputs": [
    {
     "name": "stdout",
     "output_type": "stream",
     "text": [
      "The string is not a palindrome.\n"
     ]
    }
   ],
   "source": [
    "# Function to check if a string is a palindrome\n",
    "def is_palindrome(s):\n",
    "    # Remove spaces and convert the string to lowercase\n",
    "    s = s.replace(\" \", \"\").lower()\n",
    "    \n",
    "    # Initialize left and right pointers\n",
    "    left = 0\n",
    "    right = len(s) - 1\n",
    "    \n",
    "    # Iterate through the string using a for loop\n",
    "    for _ in range(len(s)//2):\n",
    "        # Check if characters at left and right pointers match\n",
    "        if s[left] != s[right]:\n",
    "            return False\n",
    "        # Move pointers towards the center\n",
    "        left += 1\n",
    "        right -= 1\n",
    "    \n",
    "    return True\n",
    "\n",
    "# Input the string from the user\n",
    "string = input(\"Enter a string: \")\n",
    "\n",
    "# Check if the string is a palindrome using the is_palindrome function\n",
    "if is_palindrome(string):\n",
    "    print(\"The string is a palindrome.\")\n",
    "else:\n",
    "    print(\"The string is not a palindrome.\")\n"
   ]
  },
  {
   "cell_type": "markdown",
   "metadata": {},
   "source": [
    "- WAP to calculate a average of a list of numbers using a for loop"
   ]
  },
  {
   "cell_type": "code",
   "execution_count": 15,
   "metadata": {},
   "outputs": [
    {
     "name": "stdout",
     "output_type": "stream",
     "text": [
      "Average of the numbers is: 39.8\n"
     ]
    }
   ],
   "source": [
    "# Function to calculate the average of a list of numbers\n",
    "def calculate_average(num_list):\n",
    "    # Initialize variables to store sum and count\n",
    "    total = 0\n",
    "    count = 0\n",
    "    \n",
    "    # Iterate through the list using a for loop\n",
    "    for num in num_list:\n",
    "        total += num  # Add each number to the total sum\n",
    "        count += 1    # Increment the count of numbers\n",
    "    \n",
    "    # Calculate the average\n",
    "    if count > 0:\n",
    "        average = total / count\n",
    "        return average\n",
    "    else:\n",
    "        return \"List is empty\"\n",
    "\n",
    "# Input the list of numbers from the user\n",
    "num_list = list(map(float, input(\"Enter the list of numbers separated by space: \").split()))\n",
    "\n",
    "# Calculate the average using the calculate_average function\n",
    "avg = calculate_average(num_list)\n",
    "\n",
    "# Print the average\n",
    "print(\"Average of the numbers is:\", avg)\n"
   ]
  },
  {
   "cell_type": "markdown",
   "metadata": {},
   "source": [
    "- WAP to find the smallest element in an array using a while loop"
   ]
  },
  {
   "cell_type": "code",
   "execution_count": 16,
   "metadata": {},
   "outputs": [
    {
     "name": "stdout",
     "output_type": "stream",
     "text": [
      "The smallest element in the array is: 1\n"
     ]
    }
   ],
   "source": [
    "# Function to find the smallest element in an array using a while loop\n",
    "def find_smallest_element(arr):\n",
    "    # Check if the array is empty\n",
    "    if not arr:\n",
    "        return \"Array is empty\"\n",
    "    \n",
    "    # Initialize the smallest element with the first element of the array\n",
    "    smallest = arr[0]\n",
    "    \n",
    "    # Initialize index for while loop\n",
    "    i = 1\n",
    "    \n",
    "    # Iterate through the array using a while loop\n",
    "    while i < len(arr):\n",
    "        # Check if the current element is smaller than the smallest element\n",
    "        if arr[i] < smallest:\n",
    "            smallest = arr[i]\n",
    "        # Move to the next element\n",
    "        i += 1\n",
    "    \n",
    "    # Return the smallest element\n",
    "    return smallest\n",
    "\n",
    "# Example array\n",
    "arr = [4, 9, 2, 7, 5, 1, 3]\n",
    "\n",
    "# Find the smallest element in the array using the find_smallest_element function\n",
    "smallest_element = find_smallest_element(arr)\n",
    "\n",
    "# Print the smallest element\n",
    "print(\"The smallest element in the array is:\", smallest_element)\n"
   ]
  },
  {
   "cell_type": "markdown",
   "metadata": {},
   "source": [
    "- WAP to calculate the sum of digits of a number using a for loop"
   ]
  },
  {
   "cell_type": "code",
   "execution_count": 17,
   "metadata": {},
   "outputs": [
    {
     "name": "stdout",
     "output_type": "stream",
     "text": [
      "The sum of digits of the number is: 4\n"
     ]
    }
   ],
   "source": [
    "# Function to calculate the sum of digits of a number\n",
    "def sum_of_digits(number):\n",
    "    # Initialize sum variable\n",
    "    total_sum = 0\n",
    "    \n",
    "    # Convert the number to a string to iterate over its digits\n",
    "    number_str = str(number)\n",
    "    \n",
    "    # Iterate through each digit of the number using a for loop\n",
    "    for digit in number_str:\n",
    "        # Convert each digit back to an integer and add it to the sum\n",
    "        total_sum += int(digit)\n",
    "    \n",
    "    # Return the total sum of digits\n",
    "    return total_sum\n",
    "\n",
    "# Input the number from the user\n",
    "number = int(input(\"Enter a number: \"))\n",
    "\n",
    "# Calculate the sum of digits using the sum_of_digits function\n",
    "digits_sum = sum_of_digits(number)\n",
    "\n",
    "# Print the sum of digits\n",
    "print(\"The sum of digits of the number is:\", digits_sum)\n"
   ]
  },
  {
   "cell_type": "markdown",
   "metadata": {},
   "source": [
    "- WAP to check if a given list of years has a leap years has a leap year using a while loop"
   ]
  },
  {
   "cell_type": "code",
   "execution_count": 19,
   "metadata": {},
   "outputs": [
    {
     "name": "stdout",
     "output_type": "stream",
     "text": [
      "The list does not contain any leap year.\n"
     ]
    }
   ],
   "source": [
    "# Function to check if a year is a leap year\n",
    "def is_leap_year(year):\n",
    "    if year % 4 == 0:\n",
    "        if year % 100 == 0:\n",
    "            if year % 400 == 0:\n",
    "                return True\n",
    "            else:\n",
    "                return False\n",
    "        else:\n",
    "            return True\n",
    "    else:\n",
    "        return False\n",
    "\n",
    "# Function to check if a list of years contains any leap years using a while loop\n",
    "def has_leap_year(years):\n",
    "    # Initialize index for while loop\n",
    "    i = 0\n",
    "    \n",
    "    # Iterate through the list using a while loop\n",
    "    while i < len(years):\n",
    "        # Check if the current year is a leap year\n",
    "        if is_leap_year(years[i]):\n",
    "            return True\n",
    "        # Move to the next year\n",
    "        i += 1\n",
    "    \n",
    "    # If no leap year is found, return False\n",
    "    return False\n",
    "\n",
    "# Input the list of years from the user\n",
    "years = list(map(int, input(\"Enter the list of years separated by space: \").split()))\n",
    "\n",
    "# Check if the list of years contains any leap years using the has_leap_year function\n",
    "if has_leap_year(years):\n",
    "    print(\"The list contains at least one leap year.\")\n",
    "else:\n",
    "    print(\"The list does not contain any leap year.\")\n"
   ]
  },
  {
   "cell_type": "markdown",
   "metadata": {},
   "source": [
    "- WAP to find factorial of a number using a for loop"
   ]
  },
  {
   "cell_type": "code",
   "execution_count": 20,
   "metadata": {},
   "outputs": [
    {
     "name": "stdout",
     "output_type": "stream",
     "text": [
      "The factorial of 12 is: 479001600\n"
     ]
    }
   ],
   "source": [
    "# Function to calculate the factorial of a number\n",
    "def factorial(n):\n",
    "    # Initialize the factorial variable to 1\n",
    "    fact = 1\n",
    "    \n",
    "    # Iterate from 1 to n using a for loop\n",
    "    for i in range(1, n + 1):\n",
    "        # Multiply each number from 1 to n\n",
    "        fact *= i\n",
    "    \n",
    "    # Return the factorial\n",
    "    return fact\n",
    "\n",
    "# Input the number from the user\n",
    "num = int(input(\"Enter a number: \"))\n",
    "\n",
    "# Check if the number is negative\n",
    "if num < 0:\n",
    "    print(\"Factorial is not defined for negative numbers.\")\n",
    "else:\n",
    "    # Calculate the factorial using the factorial function\n",
    "    result = factorial(num)\n",
    "    # Print the result\n",
    "    print(\"The factorial of\", num, \"is:\", result)\n"
   ]
  },
  {
   "cell_type": "markdown",
   "metadata": {},
   "source": [
    "- WAP to program to count the number of vowels in a given string using a for loop"
   ]
  },
  {
   "cell_type": "code",
   "execution_count": 22,
   "metadata": {},
   "outputs": [
    {
     "name": "stdout",
     "output_type": "stream",
     "text": [
      "Number of vowels in the string: 2\n"
     ]
    }
   ],
   "source": [
    "# Function to count the number of vowels in a string\n",
    "def count_vowels(string):\n",
    "    # Initialize a variable to store the count of vowels\n",
    "    vowel_count = 0\n",
    "    \n",
    "    # Define a set of vowels\n",
    "    vowels = {'a', 'e', 'i', 'o', 'u'}\n",
    "    \n",
    "    # Convert the string to lowercase to handle case insensitivity\n",
    "    string = string.lower()\n",
    "    \n",
    "    # Iterate through each character in the string using a for loop\n",
    "    for char in string:\n",
    "        # Check if the character is a vowel\n",
    "        if char in vowels:\n",
    "            vowel_count += 1\n",
    "    \n",
    "    # Return the count of vowels\n",
    "    return vowel_count\n",
    "\n",
    "# Input the string from the user\n",
    "string = input(\"Enter a string: \")\n",
    "\n",
    "# Call the count_vowels function to count the number of vowels\n",
    "num_vowels = count_vowels(string)\n",
    "\n",
    "# Print the count of vowels\n",
    "print(\"Number of vowels in the string:\", num_vowels)\n"
   ]
  },
  {
   "cell_type": "markdown",
   "metadata": {},
   "source": [
    "- WAP to find the smallest and the largest elements in an array using a for loop"
   ]
  },
  {
   "cell_type": "code",
   "execution_count": null,
   "metadata": {},
   "outputs": [],
   "source": []
  },
  {
   "cell_type": "code",
   "execution_count": null,
   "metadata": {},
   "outputs": [],
   "source": []
  },
  {
   "cell_type": "markdown",
   "metadata": {},
   "source": []
  },
  {
   "cell_type": "markdown",
   "metadata": {},
   "source": []
  },
  {
   "cell_type": "markdown",
   "metadata": {},
   "source": []
  },
  {
   "cell_type": "code",
   "execution_count": 23,
   "metadata": {},
   "outputs": [
    {
     "name": "stdout",
     "output_type": "stream",
     "text": [
      "Smallest element in the array: 1\n",
      "Largest element in the array: 9\n"
     ]
    }
   ],
   "source": [
    "# Example array\n",
    "arr = [3, 7, 2, 9, 1, 6, 8]\n",
    "\n",
    "# Find the smallest and largest elements in the array using built-in functions\n",
    "smallest = min(arr)\n",
    "largest = max(arr)\n",
    "\n",
    "# Print the smallest and largest elements\n",
    "print(\"Smallest element in the array:\", smallest)\n",
    "print(\"Largest element in the array:\", largest)\n"
   ]
  },
  {
   "cell_type": "markdown",
   "metadata": {},
   "source": [
    "- WAP to reverse the order of words in a sentence using while loop"
   ]
  },
  {
   "cell_type": "code",
   "execution_count": 24,
   "metadata": {},
   "outputs": [
    {
     "name": "stdout",
     "output_type": "stream",
     "text": [
      "Reversed sentence: HIMANSHI is name My\n"
     ]
    }
   ],
   "source": [
    "def reverse_words(sentence):\n",
    "    # Split the sentence into words\n",
    "    words = sentence.split()\n",
    "    \n",
    "    # Initialize variables for the reversed sentence and the index for iteration\n",
    "    reversed_sentence = \"\"\n",
    "    word_index = len(words) - 1\n",
    "    \n",
    "    # Reverse the order of words using a while loop\n",
    "    while word_index >= 0:\n",
    "        reversed_sentence += words[word_index] + \" \"\n",
    "        word_index -= 1\n",
    "    \n",
    "    # Remove the trailing space\n",
    "    reversed_sentence = reversed_sentence.strip()\n",
    "    \n",
    "    return reversed_sentence\n",
    "\n",
    "# Input the sentence from the user\n",
    "sentence = input(\"Enter a sentence: \")\n",
    "\n",
    "# Reverse the order of words in the sentence\n",
    "reversed_sentence = reverse_words(sentence)\n",
    "\n",
    "# Print the reversed sentence\n",
    "print(\"Reversed sentence:\", reversed_sentence)\n"
   ]
  },
  {
   "cell_type": "code",
   "execution_count": null,
   "metadata": {},
   "outputs": [],
   "source": []
  },
  {
   "cell_type": "markdown",
   "metadata": {},
   "source": []
  },
  {
   "cell_type": "markdown",
   "metadata": {},
   "source": []
  },
  {
   "cell_type": "code",
   "execution_count": null,
   "metadata": {},
   "outputs": [],
   "source": []
  }
 ],
 "metadata": {
  "kernelspec": {
   "display_name": "Python 3",
   "language": "python",
   "name": "python3"
  },
  "language_info": {
   "codemirror_mode": {
    "name": "ipython",
    "version": 3
   },
   "file_extension": ".py",
   "mimetype": "text/x-python",
   "name": "python",
   "nbconvert_exporter": "python",
   "pygments_lexer": "ipython3",
   "version": "3.11.5"
  }
 },
 "nbformat": 4,
 "nbformat_minor": 2
}
