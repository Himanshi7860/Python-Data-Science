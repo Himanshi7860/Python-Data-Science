{
 "cells": [
  {
   "cell_type": "markdown",
   "metadata": {},
   "source": [
    "# data structures in python\n",
    "- list \n",
    "   - indexed, ordered, *mutable*, allows duplicate members,[]\n",
    "- tuple\n",
    "   - indexed, ordered, *immutable*, allows duplicate members,()\n",
    "- set\n",
    "   - unindexed, *unordered, mutable, **unique values only*,{}\n",
    "- dict\n",
    "   - *ordered, mutable, **unique keys only*,**allows duplicate values,{key:value}"
   ]
  },
  {
   "cell_type": "markdown",
   "metadata": {},
   "source": []
  },
  {
   "cell_type": "markdown",
   "metadata": {},
   "source": [
    "# list\n",
    " - create a list\n",
    "- indexing and slicing\n",
    "- methods\n",
    "- traversal"
   ]
  },
  {
   "cell_type": "code",
   "execution_count": 1,
   "metadata": {},
   "outputs": [],
   "source": [
    "x = []#empty list\n",
    "a = [1,2,3,4,5]#list of integers\n",
    "names = ['Alex','Arti','Anupam']#list of strings\n",
    "mixed = [1,'Alex',2,'Arti']\n",
    "nested = [1,[2,3],4]#nested list\n",
    "\n"
   ]
  },
  {
   "cell_type": "code",
   "execution_count": 3,
   "metadata": {},
   "outputs": [
    {
     "name": "stdout",
     "output_type": "stream",
     "text": [
      "[[1, 2, 3], [1, 2, 3], [1, 2, 3]]\n",
      "[1, 2, 3, 1, 2, 3, 1, 2, 3, 1, 2, 3, 1, 2, 3]\n",
      "[1, 1, 1, 1, 1, 1, 1, 1, 1, 1]\n"
     ]
    }
   ],
   "source": [
    "# creating a duplicated list\n",
    "a = [1,2,3]\n",
    "b =[a,a,a]\n",
    "print(b)\n",
    "# another way to creatye a duplicated list\n",
    "c = a * 5\n",
    "print(c)\n",
    "#another one\n",
    "d = [1] * 10\n",
    "print(d)"
   ]
  },
  {
   "cell_type": "code",
   "execution_count": 10,
   "metadata": {},
   "outputs": [
    {
     "name": "stdout",
     "output_type": "stream",
     "text": [
      "1\n",
      "10\n",
      "[1, 2, 3, 4, 5]\n",
      "[6, 7, 8, 9, 10]\n",
      "[2, 4, 6, 8, 10]\n",
      "[1, 3, 5, 7, 9]\n",
      "[10, 9, 8, 7, 6, 5, 4, 3, 2, 1]\n",
      "[7, 6, 5, 4, 3, 2, 1]\n",
      "[7, 6, 5, 4, 3, 2, 1]\n"
     ]
    }
   ],
   "source": [
    "numbers = [1,2,3,4,5,6,7,8,9,10]\n",
    "print(numbers[0])#first element\n",
    "print(numbers[-1])#last element\n",
    "print(numbers[:5])# first five elements\n",
    "print(numbers[-5:])#last indexed elements\n",
    "print(numbers[1::2])#odd indexed elements\n",
    "print(numbers[::2])#even indexed elements\n",
    "print(numbers[::-1])#reverse the list\n",
    "print(numbers[6::-1])#first seven \n",
    "print(numbers[:7][::-1])#first seven\n"
   ]
  },
  {
   "cell_type": "markdown",
   "metadata": {},
   "source": [
    "# methods in list - 11 \n",
    "- adding elements\n",
    "    - append \n",
    "    - extend\n",
    "    - insert\n",
    "- removing elements\n",
    "    - pop \n",
    "    - remove\n",
    "    - clear\n",
    "- utility methods\n",
    "    - index\n",
    "    - count \n",
    "    - sort\n",
    "    - reverse\n",
    "    - copy"
   ]
  },
  {
   "cell_type": "code",
   "execution_count": 16,
   "metadata": {},
   "outputs": [
    {
     "name": "stdout",
     "output_type": "stream",
     "text": [
      "['apple', 'apple', 'apple', 'apple']\n"
     ]
    }
   ],
   "source": [
    "x.append('apple')\n",
    "print(x)"
   ]
  },
  {
   "cell_type": "code",
   "execution_count": 17,
   "metadata": {},
   "outputs": [
    {
     "name": "stdout",
     "output_type": "stream",
     "text": [
      "['apple', 'apple', 'apple', 'apple', 'banana']\n"
     ]
    }
   ],
   "source": [
    "x.append('banana')\n",
    "print(x)"
   ]
  },
  {
   "cell_type": "code",
   "execution_count": 18,
   "metadata": {},
   "outputs": [
    {
     "name": "stdout",
     "output_type": "stream",
     "text": [
      "['apple', 'apple', 'apple', 'apple', 'banana', 12]\n"
     ]
    }
   ],
   "source": [
    "x.append(12)\n",
    "print(x)"
   ]
  },
  {
   "cell_type": "code",
   "execution_count": 19,
   "metadata": {},
   "outputs": [
    {
     "name": "stdout",
     "output_type": "stream",
     "text": [
      "['the mind ', 'shakespear ', 'cindrella', 'harry potter', 'tarzen']\n"
     ]
    }
   ],
   "source": [
    "books = []\n",
    "for i in range (5):\n",
    "    books.append(input('Enter a book'))\n",
    "print(books)"
   ]
  },
  {
   "cell_type": "code",
   "execution_count": 20,
   "metadata": {},
   "outputs": [],
   "source": [
    "more_books =['Harry Potter','Lord Of Rings','The Hobbit']"
   ]
  },
  {
   "cell_type": "code",
   "execution_count": 21,
   "metadata": {},
   "outputs": [
    {
     "data": {
      "text/plain": [
       "['the mind ', 'shakespear ', 'cindrella', 'harry potter', 'tarzen']"
      ]
     },
     "execution_count": 21,
     "metadata": {},
     "output_type": "execute_result"
    }
   ],
   "source": [
    "books"
   ]
  },
  {
   "cell_type": "code",
   "execution_count": 22,
   "metadata": {},
   "outputs": [
    {
     "data": {
      "text/plain": [
       "['the mind ',\n",
       " 'shakespear ',\n",
       " 'cindrella',\n",
       " 'harry potter',\n",
       " 'tarzen',\n",
       " 'Harry Potter',\n",
       " 'Lord Of Rings',\n",
       " 'The Hobbit']"
      ]
     },
     "execution_count": 22,
     "metadata": {},
     "output_type": "execute_result"
    }
   ],
   "source": [
    "books.extend(more_books)\n",
    "books"
   ]
  },
  {
   "cell_type": "code",
   "execution_count": 23,
   "metadata": {},
   "outputs": [
    {
     "data": {
      "text/plain": [
       "['the mind ',\n",
       " 'shakespear ',\n",
       " 'cindrella',\n",
       " 'harry potter',\n",
       " 'tarzen',\n",
       " \"Harry Potter And The sorcerer's stone \",\n",
       " 'Lord Of Rings',\n",
       " 'The Hobbit']"
      ]
     },
     "execution_count": 23,
     "metadata": {},
     "output_type": "execute_result"
    }
   ],
   "source": [
    "books[-3] = \"Harry Potter And The sorcerer's stone \" #replace\n",
    "books"
   ]
  },
  {
   "cell_type": "code",
   "execution_count": 24,
   "metadata": {},
   "outputs": [
    {
     "data": {
      "text/plain": [
       "['the mind ',\n",
       " 'shakespear ',\n",
       " 'cindrella',\n",
       " 'harry potter',\n",
       " 'tarzen',\n",
       " \"Harry Potter And The sorcerer's stone \",\n",
       " 'Harry Potter And The sorcerers stone',\n",
       " 'Lord Of Rings',\n",
       " 'The Hobbit']"
      ]
     },
     "execution_count": 24,
     "metadata": {},
     "output_type": "execute_result"
    }
   ],
   "source": [
    "books.insert(-2,'Harry Potter And The sorcerers stone')\n",
    "books"
   ]
  },
  {
   "cell_type": "code",
   "execution_count": 28,
   "metadata": {},
   "outputs": [],
   "source": [
    "if 'cindrella' in books :\n",
    "    books.remove('cindrella')\n"
   ]
  },
  {
   "cell_type": "code",
   "execution_count": 29,
   "metadata": {},
   "outputs": [
    {
     "data": {
      "text/plain": [
       "'The Hobbit'"
      ]
     },
     "execution_count": 29,
     "metadata": {},
     "output_type": "execute_result"
    }
   ],
   "source": [
    "books.pop()#remove last elements"
   ]
  },
  {
   "cell_type": "code",
   "execution_count": 31,
   "metadata": {},
   "outputs": [
    {
     "data": {
      "text/plain": [
       "\"Harry Potter And The sorcerer's stone \""
      ]
     },
     "execution_count": 31,
     "metadata": {},
     "output_type": "execute_result"
    }
   ],
   "source": [
    "books.pop(3)#remove element at index 3"
   ]
  },
  {
   "cell_type": "code",
   "execution_count": null,
   "metadata": {},
   "outputs": [],
   "source": []
  }
 ],
 "metadata": {
  "kernelspec": {
   "display_name": "base",
   "language": "python",
   "name": "python3"
  },
  "language_info": {
   "codemirror_mode": {
    "name": "ipython",
    "version": 3
   },
   "file_extension": ".py",
   "mimetype": "text/x-python",
   "name": "python",
   "nbconvert_exporter": "python",
   "pygments_lexer": "ipython3",
   "version": "3.11.5"
  }
 },
 "nbformat": 4,
 "nbformat_minor": 2
}
