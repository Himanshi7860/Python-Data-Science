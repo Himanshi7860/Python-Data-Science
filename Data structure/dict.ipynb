{
 "cells": [
  {
   "cell_type": "code",
   "execution_count": 10,
   "metadata": {},
   "outputs": [],
   "source": [
    "x = [\n",
    "    'rohan' ,\n",
    "    '5 feet' ,\n",
    "    18,\n",
    "    False,\n",
    "    'Undergraduate','BBA', ' Basketball' ,' chocolate']"
   ]
  },
  {
   "cell_type": "code",
   "execution_count": 11,
   "metadata": {},
   "outputs": [
    {
     "name": "stdout",
     "output_type": "stream",
     "text": [
      "18\n",
      " chocolate\n",
      "BBA\n",
      "['rohan', '5 feet', 18, False, 'Undergraduate', 'BBA', ' Basketball', ' chocolate']\n"
     ]
    }
   ],
   "source": [
    "print(x[2]) # index 2 is Age\n",
    "print(x[-1])\n",
    "print(x[-3])\n",
    "print(x)"
   ]
  },
  {
   "cell_type": "code",
   "execution_count": 12,
   "metadata": {},
   "outputs": [
    {
     "name": "stdout",
     "output_type": "stream",
     "text": [
      "18\n",
      "chocolate\n",
      "Basketball\n"
     ]
    }
   ],
   "source": [
    "xd = {'name': 'rohan', \n",
    "      'height': '5 ft',\n",
    "        'age': 18,\n",
    "'is_marrird': False,\n",
    "'edu_level' : 'BBA',\n",
    "'degree': 'Undergraduate',\n",
    "'hobby': 'Basketball',\n",
    "'fav_food': 'chocolate'\n",
    "}\n",
    "print(xd['age'])\n",
    "print(xd['fav_food'])\n",
    "print(xd['hobby'])"
   ]
  },
  {
   "cell_type": "code",
   "execution_count": 13,
   "metadata": {},
   "outputs": [
    {
     "name": "stdout",
     "output_type": "stream",
     "text": [
      "{0: 6, 1: 12, 2: 12, 3: 12, 4: 12}\n"
     ]
    }
   ],
   "source": [
    "nums = {}\n",
    "for i in range(5):12\n",
    "    value = int(input('Enter a number'))\n",
    "    nums[i] = value # add a new {key :value} pair to the dictionary\n",
    "print(nums)"
   ]
  },
  {
   "cell_type": "code",
   "execution_count": 1,
   "metadata": {},
   "outputs": [
    {
     "data": {
      "text/plain": [
       "{'Animal': 8.4, 'Sam Bahadur': 9.0, 'Dream': 8.4}"
      ]
     },
     "execution_count": 1,
     "metadata": {},
     "output_type": "execute_result"
    }
   ],
   "source": [
    "movies ={'Animal': 8.4} #direct assignment\n",
    "\n",
    "movies['Sam Bahadur'] = 9.0 #adding a new key :value of a key\n",
    "movies['Dream'] = 8.4\n",
    "movies"
   ]
  },
  {
   "cell_type": "code",
   "execution_count": 26,
   "metadata": {},
   "outputs": [],
   "source": [
    "movies['Animal'] = 7 \n",
    "movies['Fast X'] = 9\n",
    "movies['Dream girl'] = 8.4\n",
    "movies['Beayty and the beast'] = 9.0"
   ]
  },
  {
   "cell_type": "code",
   "execution_count": 25,
   "metadata": {},
   "outputs": [],
   "source": [
    "for i in range(3):\n",
    "    key = input('Enter a movie name:')\n",
    "    value = float(input('Enter the rating'))\n",
    "    movies[key] = value"
   ]
  },
  {
   "cell_type": "code",
   "execution_count": 27,
   "metadata": {},
   "outputs": [
    {
     "data": {
      "text/plain": [
       "{'Animal': 7,\n",
       " 'Sam Bahadur': 9.0,\n",
       " 'Dream': 8.4,\n",
       " 'Dream girl': 8.4,\n",
       " 'hum': 8.0,\n",
       " 'Fast X': 9,\n",
       " 'Beauty and the beast': 9.0}"
      ]
     },
     "execution_count": 27,
     "metadata": {},
     "output_type": "execute_result"
    }
   ],
   "source": [
    "movies"
   ]
  },
  {
   "cell_type": "code",
   "execution_count": 28,
   "metadata": {},
   "outputs": [
    {
     "data": {
      "text/plain": [
       "9"
      ]
     },
     "execution_count": 28,
     "metadata": {},
     "output_type": "execute_result"
    }
   ],
   "source": [
    "movies.pop('Fast X') #removes the key: value pair"
   ]
  },
  {
   "cell_type": "code",
   "execution_count": 29,
   "metadata": {},
   "outputs": [
    {
     "data": {
      "text/plain": [
       "{'Animal': 7,\n",
       " 'Sam Bahadur': 9.0,\n",
       " 'Dream': 8.4,\n",
       " 'Dream girl': 8.4,\n",
       " 'hum': 8.0,\n",
       " 'Beauty and the beast': 9.0}"
      ]
     },
     "execution_count": 29,
     "metadata": {},
     "output_type": "execute_result"
    }
   ],
   "source": [
    "movies"
   ]
  },
  {
   "cell_type": "code",
   "execution_count": 30,
   "metadata": {},
   "outputs": [
    {
     "data": {
      "text/plain": [
       "('Beauty and the beast', 9.0)"
      ]
     },
     "execution_count": 30,
     "metadata": {},
     "output_type": "execute_result"
    }
   ],
   "source": [
    "movies.popitem()#removes the last key : value pair"
   ]
  },
  {
   "cell_type": "code",
   "execution_count": 31,
   "metadata": {},
   "outputs": [
    {
     "name": "stdout",
     "output_type": "stream",
     "text": [
      "8.4\n"
     ]
    },
    {
     "ename": "KeyError",
     "evalue": "'Dream Girl'",
     "output_type": "error",
     "traceback": [
      "\u001b[1;31m---------------------------------------------------------------------------\u001b[0m",
      "\u001b[1;31mKeyError\u001b[0m                                  Traceback (most recent call last)",
      "Cell \u001b[1;32mIn[31], line 2\u001b[0m\n\u001b[0;32m      1\u001b[0m \u001b[38;5;28mprint\u001b[39m(movies[\u001b[38;5;124m'\u001b[39m\u001b[38;5;124mDream girl\u001b[39m\u001b[38;5;124m'\u001b[39m])\n\u001b[1;32m----> 2\u001b[0m \u001b[38;5;28mprint\u001b[39m(movies[\u001b[38;5;124m'\u001b[39m\u001b[38;5;124mDream Girl\u001b[39m\u001b[38;5;124m'\u001b[39m])\n",
      "\u001b[1;31mKeyError\u001b[0m: 'Dream Girl'"
     ]
    }
   ],
   "source": [
    "print(movies['Dream girl'])\n",
    "print(movies['Dream Girl'])#error because the key is not present"
   ]
  },
  {
   "cell_type": "code",
   "execution_count": 32,
   "metadata": {},
   "outputs": [
    {
     "name": "stdout",
     "output_type": "stream",
     "text": [
      "8.4\n",
      "None\n"
     ]
    }
   ],
   "source": [
    "print(movies.get('Dream girl'))\n",
    "print(movies.get('Dream irl'))"
   ]
  },
  {
   "cell_type": "code",
   "execution_count": 16,
   "metadata": {},
   "outputs": [
    {
     "name": "stdout",
     "output_type": "stream",
     "text": [
      "8.4\n",
      "not found\n"
     ]
    }
   ],
   "source": [
    "print(movies.get('Dream girl','not found'))\n",
    "print(movies.get('Dream irl','not found'))"
   ]
  },
  {
   "cell_type": "code",
   "execution_count": 33,
   "metadata": {},
   "outputs": [
    {
     "name": "stdout",
     "output_type": "stream",
     "text": [
      "Animal\n",
      "Sam Bahadur\n",
      "Dream\n",
      "Dream girl\n",
      "hum\n"
     ]
    }
   ],
   "source": [
    "#keys\n",
    "for i in movies:\n",
    "    print(i)"
   ]
  },
  {
   "cell_type": "code",
   "execution_count": 34,
   "metadata": {},
   "outputs": [
    {
     "data": {
      "text/plain": [
       "dict_values([7, 9.0, 8.4, 8.4, 8.0])"
      ]
     },
     "execution_count": 34,
     "metadata": {},
     "output_type": "execute_result"
    }
   ],
   "source": [
    "movies.values()"
   ]
  },
  {
   "cell_type": "code",
   "execution_count": 35,
   "metadata": {},
   "outputs": [
    {
     "data": {
      "text/plain": [
       "dict_items([('Animal', 7), ('Sam Bahadur', 9.0), ('Dream', 8.4), ('Dream girl', 8.4), ('hum', 8.0)])"
      ]
     },
     "execution_count": 35,
     "metadata": {},
     "output_type": "execute_result"
    }
   ],
   "source": [
    "movies.items()"
   ]
  },
  {
   "cell_type": "code",
   "execution_count": 36,
   "metadata": {},
   "outputs": [
    {
     "name": "stdout",
     "output_type": "stream",
     "text": [
      "Animal              7.000000\n",
      "Sam Bahadur         9.000000\n",
      "Dream               8.400000\n",
      "Dream girl          8.400000\n",
      "hum                 8.000000\n"
     ]
    }
   ],
   "source": [
    "for k,v in movies.items():\n",
    "    print(f'{k:20}{v:1f}')"
   ]
  },
  {
   "cell_type": "code",
   "execution_count": null,
   "metadata": {},
   "outputs": [],
   "source": []
  }
 ],
 "metadata": {
  "kernelspec": {
   "display_name": "Python 3",
   "language": "python",
   "name": "python3"
  },
  "language_info": {
   "codemirror_mode": {
    "name": "ipython",
    "version": 3
   },
   "file_extension": ".py",
   "mimetype": "text/x-python",
   "name": "python",
   "nbconvert_exporter": "python",
   "pygments_lexer": "ipython3",
   "version": "3.11.5"
  }
 },
 "nbformat": 4,
 "nbformat_minor": 2
}
