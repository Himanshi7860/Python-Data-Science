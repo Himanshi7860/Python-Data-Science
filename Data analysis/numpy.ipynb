{
 "cells": [
  {
   "cell_type": "code",
   "execution_count": 3,
   "metadata": {},
   "outputs": [
    {
     "name": "stdout",
     "output_type": "stream",
     "text": [
      "[3, 5, 7]\n"
     ]
    }
   ],
   "source": [
    "x = [1,2,3]\n",
    "y =[2,3,4]\n",
    "ans = []\n",
    "for a,b in zip(x,y):\n",
    "    v = a + b\n",
    "    ans.append(v)\n",
    "print(ans)"
   ]
  },
  {
   "cell_type": "code",
   "execution_count": null,
   "metadata": {},
   "outputs": [],
   "source": [
    "x = [[1,2], [3,4]]\n",
    "y =[[2,3], [4,5]]\n",
    "\n",
    "\n"
   ]
  },
  {
   "cell_type": "markdown",
   "metadata": {},
   "source": [
    "number processing library for python - numpy\n",
    "- array : it is a list of homogenous elements"
   ]
  },
  {
   "cell_type": "code",
   "execution_count": 4,
   "metadata": {},
   "outputs": [],
   "source": [
    "import numpy as np"
   ]
  },
  {
   "cell_type": "code",
   "execution_count": 7,
   "metadata": {},
   "outputs": [
    {
     "name": "stdout",
     "output_type": "stream",
     "text": [
      "[1 2 3] + [2 3 4] = [3 5 7]\n",
      "[1 2 3] - [2 3 4] = [-1 -1 -1]\n",
      "[1 2 3] * [2 3 4] = [ 2  6 12]\n",
      "[1 2 3] / [2 3 4] = [0.5        0.66666667 0.75      ]\n",
      "[1 2 3] // [2 3 4] = [0 0 0]\n"
     ]
    }
   ],
   "source": [
    "x = np.array([1,2,3])\n",
    "y = np.array([2,3,4])\n",
    "print(x,'+',y,'=',x+y)\n",
    "print(x,'-',y,'=',x-y)\n",
    "print(x,'*',y,'=',x*y)\n",
    "print(x,'/',y,'=',x/y)\n",
    "print(x,'//',y,'=',x//y)"
   ]
  },
  {
   "cell_type": "markdown",
   "metadata": {},
   "source": [
    "matrices are\n",
    "- 1D array\n",
    "- 2D array\n",
    "- 3D arr\n",
    "- 4D array\n",
    "- nD array"
   ]
  },
  {
   "cell_type": "code",
   "execution_count": 10,
   "metadata": {},
   "outputs": [
    {
     "name": "stdout",
     "output_type": "stream",
     "text": [
      "[1 2 3] <class 'numpy.ndarray'> (3,) 1\n",
      "[[1 2]\n",
      " [3 4]] <class 'numpy.ndarray'> (2, 2) 2\n"
     ]
    }
   ],
   "source": [
    "# one dimnsion matrix\n",
    "x = np.array([1,2,3])\n",
    "print(x, type(x), x.shape, x.ndim)\n",
    "# two dimension matrix\n",
    "x2 =np.array([[1,2],[3,4]])\n",
    "print(x2, type(x2), x2.shape, x2.ndim)"
   ]
  },
  {
   "cell_type": "code",
   "execution_count": 9,
   "metadata": {},
   "outputs": [
    {
     "name": "stdout",
     "output_type": "stream",
     "text": [
      "[[[1 2]\n",
      "  [3 4]]\n",
      "\n",
      " [[5 6]\n",
      "  [7 8]]] (2, 2, 2) 3 8\n"
     ]
    }
   ],
   "source": [
    "#3 dimension matrix\n",
    "x3 = np.array([[[1,2],[3,4]],[[5,6],[7,8]]])\n",
    "print(x3, x3.shape, x3.ndim, x3.size)"
   ]
  },
  {
   "cell_type": "code",
   "execution_count": 12,
   "metadata": {},
   "outputs": [
    {
     "name": "stdout",
     "output_type": "stream",
     "text": [
      "(6, 6) 2 36\n"
     ]
    }
   ],
   "source": [
    "# 6 * 6 matrix\n",
    "x4 =np.array([\n",
    "    [1,2,3,4,5,6],\n",
    "    [7,8,9,10,11,12],\n",
    "    [13,14,15,16,17,18],\n",
    "    [19,20,21,22,23,24],\n",
    "    [25,26,27,28,29,30],\n",
    "    [31,32,33,34,35,36],\n",
    "])\n",
    "print(x4.shape, x4.ndim, x4.size)"
   ]
  },
  {
   "cell_type": "markdown",
   "metadata": {},
   "source": [
    "matrix generation in numpy\n",
    "- array() # basic\n",
    "- arange() # range of values with  gap\n",
    "- linspace() # range of values with equal gap \n",
    "- logspace() # range of values with equal gap in log scale\n",
    "- zeros() # array with all zeros\n",
    "- ones() # array with all ones\n",
    "- eye() # identity matrix\n",
    "- diag() # diagonal matrix\n",
    "- random.rand() #random matrix of given shape from 0 to 1\n",
    "- random.randn() # random matrix of given shape from -1 to 1\n",
    "- random.randint() # random matrix of given shape from given range\n"
   ]
  },
  {
   "cell_type": "code",
   "execution_count": null,
   "metadata": {},
   "outputs": [],
   "source": []
  },
  {
   "cell_type": "code",
   "execution_count": 16,
   "metadata": {},
   "outputs": [
    {
     "name": "stdout",
     "output_type": "stream",
     "text": [
      "[0 1 2 3 4 5 6 7 8 9]\n",
      "[-10.   -9.5  -9.   -8.5  -8.   -7.5  -7.   -6.5  -6.   -5.5  -5.   -4.5\n",
      "  -4.   -3.5  -3.   -2.5  -2.   -1.5  -1.   -0.5   0.    0.5   1.    1.5\n",
      "   2.    2.5   3.    3.5   4.    4.5   5.    5.5   6.    6.5   7.    7.5\n",
      "   8.    8.5   9.    9.5  10.   10.5]\n",
      "[-3.14159265 -1.14159265  0.85840735  2.85840735]\n",
      "[ 1  3  5  7  9 11 13]\n"
     ]
    }
   ],
   "source": [
    "# arange() function\n",
    "x = np.arange(10)\n",
    "print(x)\n",
    "x1 = np.arange(-10,11,.5)\n",
    "print(x1)\n",
    "x2 = np.arange(-np.pi, np.pi, 2)\n",
    "print(x2)\n",
    "x3 = np.arange(1, 15, 2)\n",
    "print(x3)"
   ]
  },
  {
   "cell_type": "code",
   "execution_count": 19,
   "metadata": {},
   "outputs": [
    {
     "name": "stdout",
     "output_type": "stream",
     "text": [
      "[ 0.          1.11111111  2.22222222  3.33333333  4.44444444  5.55555556\n",
      "  6.66666667  7.77777778  8.88888889 10.        ]\n",
      "[  0.           5.05050505  10.1010101   15.15151515  20.2020202\n",
      "  25.25252525  30.3030303   35.35353535  40.4040404   45.45454545\n",
      "  50.50505051  55.55555556  60.60606061  65.65656566  70.70707071\n",
      "  75.75757576  80.80808081  85.85858586  90.90909091  95.95959596\n",
      " 101.01010101 106.06060606 111.11111111 116.16161616 121.21212121\n",
      " 126.26262626 131.31313131 136.36363636 141.41414141 146.46464646\n",
      " 151.51515152 156.56565657 161.61616162 166.66666667 171.71717172\n",
      " 176.76767677 181.81818182 186.86868687 191.91919192 196.96969697\n",
      " 202.02020202 207.07070707 212.12121212 217.17171717 222.22222222\n",
      " 227.27272727 232.32323232 237.37373737 242.42424242 247.47474747\n",
      " 252.52525253 257.57575758 262.62626263 267.67676768 272.72727273\n",
      " 277.77777778 282.82828283 287.87878788 292.92929293 297.97979798\n",
      " 303.03030303 308.08080808 313.13131313 318.18181818 323.23232323\n",
      " 328.28282828 333.33333333 338.38383838 343.43434343 348.48484848\n",
      " 353.53535354 358.58585859 363.63636364 368.68686869 373.73737374\n",
      " 378.78787879 383.83838384 388.88888889 393.93939394 398.98989899\n",
      " 404.04040404 409.09090909 414.14141414 419.19191919 424.24242424\n",
      " 429.29292929 434.34343434 439.39393939 444.44444444 449.49494949\n",
      " 454.54545455 459.5959596  464.64646465 469.6969697  474.74747475\n",
      " 479.7979798  484.84848485 489.8989899  494.94949495 500.        ]\n"
     ]
    }
   ],
   "source": [
    "x = np.linspace(0, 10 ,10)\n",
    "print(x)\n",
    "x1 = np.linspace(0, 500, 100)\n",
    "print(x1)"
   ]
  },
  {
   "cell_type": "code",
   "execution_count": 20,
   "metadata": {},
   "outputs": [
    {
     "name": "stdout",
     "output_type": "stream",
     "text": [
      "[0. 0. 0. 0. 0. 0. 0. 0. 0. 0.]\n",
      "[[0. 0. 0.]\n",
      " [0. 0. 0.]]\n"
     ]
    }
   ],
   "source": [
    "z = np.zeros(10)\n",
    "print(z)\n",
    "z1 = np.zeros((2,3))\n",
    "print(z1)"
   ]
  },
  {
   "cell_type": "code",
   "execution_count": 21,
   "metadata": {},
   "outputs": [
    {
     "name": "stdout",
     "output_type": "stream",
     "text": [
      "[[1. 1. 1. 1. 1.]\n",
      " [1. 1. 1. 1. 1.]\n",
      " [1. 1. 1. 1. 1.]\n",
      " [1. 1. 1. 1. 1.]]\n"
     ]
    }
   ],
   "source": [
    "o = np.ones((4,5))\n",
    "print(o)"
   ]
  },
  {
   "cell_type": "code",
   "execution_count": 23,
   "metadata": {},
   "outputs": [
    {
     "name": "stdout",
     "output_type": "stream",
     "text": [
      "[[1 0 0 0 0]\n",
      " [0 1 0 0 0]\n",
      " [0 0 1 0 0]\n",
      " [0 0 0 1 0]\n",
      " [0 0 0 0 1]]\n"
     ]
    }
   ],
   "source": [
    "e = np.eye(5,dtype=int)\n",
    "print(e)"
   ]
  },
  {
   "cell_type": "code",
   "execution_count": 26,
   "metadata": {},
   "outputs": [
    {
     "data": {
      "text/plain": [
       "array([[0.23628954, 0.2699131 , 0.90940394],\n",
       "       [0.09388586, 0.85229048, 0.02173366],\n",
       "       [0.14946062, 0.79702113, 0.02823907]])"
      ]
     },
     "execution_count": 26,
     "metadata": {},
     "output_type": "execute_result"
    }
   ],
   "source": [
    "np.random.rand(3,3)"
   ]
  },
  {
   "cell_type": "code",
   "execution_count": 27,
   "metadata": {},
   "outputs": [
    {
     "data": {
      "text/plain": [
       "array([[-1.20294601,  1.49712687, -1.85278039],\n",
       "       [-0.9233456 ,  0.3455744 ,  0.36644545],\n",
       "       [-0.41909283, -0.38309973, -1.25791293]])"
      ]
     },
     "execution_count": 27,
     "metadata": {},
     "output_type": "execute_result"
    }
   ],
   "source": [
    "np.random.randn(3,3)"
   ]
  },
  {
   "cell_type": "code",
   "execution_count": 28,
   "metadata": {},
   "outputs": [
    {
     "data": {
      "text/plain": [
       "array([[-5,  0, -4,  2, -6],\n",
       "       [ 1,  7,  4,  3,  0],\n",
       "       [-3, -5, -6,  7, -8],\n",
       "       [ 5, -8, -6, -6,  6],\n",
       "       [-9,  1,  5, -5, -4]])"
      ]
     },
     "execution_count": 28,
     "metadata": {},
     "output_type": "execute_result"
    }
   ],
   "source": [
    "np.random.randint(-10, 10, (5,5))"
   ]
  },
  {
   "cell_type": "markdown",
   "metadata": {},
   "source": [
    "matrix operations"
   ]
  },
  {
   "cell_type": "code",
   "execution_count": null,
   "metadata": {},
   "outputs": [],
   "source": []
  }
 ],
 "metadata": {
  "kernelspec": {
   "display_name": "base",
   "language": "python",
   "name": "python3"
  },
  "language_info": {
   "codemirror_mode": {
    "name": "ipython",
    "version": 3
   },
   "file_extension": ".py",
   "mimetype": "text/x-python",
   "name": "python",
   "nbconvert_exporter": "python",
   "pygments_lexer": "ipython3",
   "version": "3.11.5"
  }
 },
 "nbformat": 4,
 "nbformat_minor": 2
}
