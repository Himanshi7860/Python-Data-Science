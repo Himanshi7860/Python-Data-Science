{
 "cells": [
  {
   "cell_type": "code",
   "execution_count": 3,
   "metadata": {},
   "outputs": [
    {
     "name": "stdout",
     "output_type": "stream",
     "text": [
      "[3, 5, 7]\n"
     ]
    }
   ],
   "source": [
    "x = [1,2,3]\n",
    "y =[2,3,4]\n",
    "ans = []\n",
    "for a,b in zip(x,y):\n",
    "    v = a + b\n",
    "    ans.append(v)\n",
    "print(ans)"
   ]
  },
  {
   "cell_type": "code",
   "execution_count": null,
   "metadata": {},
   "outputs": [],
   "source": [
    "x = [[1,2], [3,4]]\n",
    "y =[[2,3], [4,5]]\n",
    "\n",
    "\n"
   ]
  },
  {
   "cell_type": "markdown",
   "metadata": {},
   "source": [
    "number processing library for python - numpy\n",
    "- array : it is a list of homogenous elements"
   ]
  },
  {
   "cell_type": "code",
   "execution_count": 6,
   "metadata": {},
   "outputs": [],
   "source": [
    "import numpy as np"
   ]
  },
  {
   "cell_type": "code",
   "execution_count": 7,
   "metadata": {},
   "outputs": [
    {
     "name": "stdout",
     "output_type": "stream",
     "text": [
      "[1 2 3] + [2 3 4] = [3 5 7]\n",
      "[1 2 3] - [2 3 4] = [-1 -1 -1]\n",
      "[1 2 3] * [2 3 4] = [ 2  6 12]\n",
      "[1 2 3] / [2 3 4] = [0.5        0.66666667 0.75      ]\n",
      "[1 2 3] // [2 3 4] = [0 0 0]\n"
     ]
    }
   ],
   "source": [
    "x = np.array([1,2,3])\n",
    "y = np.array([2,3,4])\n",
    "print(x,'+',y,'=',x+y)\n",
    "print(x,'-',y,'=',x-y)\n",
    "print(x,'*',y,'=',x*y)\n",
    "print(x,'/',y,'=',x/y)\n",
    "print(x,'//',y,'=',x//y)"
   ]
  },
  {
   "cell_type": "markdown",
   "metadata": {},
   "source": [
    "matrices are\n",
    "- 1D array\n",
    "- 2D array\n",
    "- 3D arr\n",
    "- 4D array\n",
    "- nD array"
   ]
  },
  {
   "cell_type": "code",
   "execution_count": 10,
   "metadata": {},
   "outputs": [
    {
     "name": "stdout",
     "output_type": "stream",
     "text": [
      "[1 2 3] <class 'numpy.ndarray'> (3,) 1\n",
      "[[1 2]\n",
      " [3 4]] <class 'numpy.ndarray'> (2, 2) 2\n"
     ]
    }
   ],
   "source": [
    "# one dimnsion matrix\n",
    "x = np.array([1,2,3])\n",
    "print(x, type(x), x.shape, x.ndim)\n",
    "# two dimension matrix\n",
    "x2 =np.array([[1,2],[3,4]])\n",
    "print(x2, type(x2), x2.shape, x2.ndim)"
   ]
  },
  {
   "cell_type": "code",
   "execution_count": 9,
   "metadata": {},
   "outputs": [
    {
     "name": "stdout",
     "output_type": "stream",
     "text": [
      "[[[1 2]\n",
      "  [3 4]]\n",
      "\n",
      " [[5 6]\n",
      "  [7 8]]] (2, 2, 2) 3 8\n"
     ]
    }
   ],
   "source": [
    "#3 dimension matrix\n",
    "x3 = np.array([[[1,2],[3,4]],[[5,6],[7,8]]])\n",
    "print(x3, x3.shape, x3.ndim, x3.size)"
   ]
  },
  {
   "cell_type": "code",
   "execution_count": 12,
   "metadata": {},
   "outputs": [
    {
     "name": "stdout",
     "output_type": "stream",
     "text": [
      "(6, 6) 2 36\n"
     ]
    }
   ],
   "source": [
    "# 6 * 6 matrix\n",
    "x4 =np.array([\n",
    "    [1,2,3,4,5,6],\n",
    "    [7,8,9,10,11,12],\n",
    "    [13,14,15,16,17,18],\n",
    "    [19,20,21,22,23,24],\n",
    "    [25,26,27,28,29,30],\n",
    "    [31,32,33,34,35,36],\n",
    "])\n",
    "print(x4.shape, x4.ndim, x4.size)"
   ]
  },
  {
   "cell_type": "markdown",
   "metadata": {},
   "source": [
    "matrix generation in numpy\n",
    "- array() # basic\n",
    "- arange() # range of values with  gap\n",
    "- linspace() # range of values with equal gap \n",
    "- logspace() # range of values with equal gap in log scale\n",
    "- zeros() # array with all zeros\n",
    "- ones() # array with all ones\n",
    "- eye() # identity matrix\n",
    "- diag() # diagonal matrix\n",
    "- random.rand() #random matrix of given shape from 0 to 1\n",
    "- random.randn() # random matrix of given shape from -1 to 1\n",
    "- random.randint() # random matrix of given shape from given range\n"
   ]
  },
  {
   "cell_type": "code",
   "execution_count": null,
   "metadata": {},
   "outputs": [],
   "source": []
  },
  {
   "cell_type": "code",
   "execution_count": 16,
   "metadata": {},
   "outputs": [
    {
     "name": "stdout",
     "output_type": "stream",
     "text": [
      "[0 1 2 3 4 5 6 7 8 9]\n",
      "[-10.   -9.5  -9.   -8.5  -8.   -7.5  -7.   -6.5  -6.   -5.5  -5.   -4.5\n",
      "  -4.   -3.5  -3.   -2.5  -2.   -1.5  -1.   -0.5   0.    0.5   1.    1.5\n",
      "   2.    2.5   3.    3.5   4.    4.5   5.    5.5   6.    6.5   7.    7.5\n",
      "   8.    8.5   9.    9.5  10.   10.5]\n",
      "[-3.14159265 -1.14159265  0.85840735  2.85840735]\n",
      "[ 1  3  5  7  9 11 13]\n"
     ]
    }
   ],
   "source": [
    "# arange() function\n",
    "x = np.arange(10)\n",
    "print(x)\n",
    "x1 = np.arange(-10,11,.5)\n",
    "print(x1)\n",
    "x2 = np.arange(-np.pi, np.pi, 2)\n",
    "print(x2)\n",
    "x3 = np.arange(1, 15, 2)\n",
    "print(x3)"
   ]
  },
  {
   "cell_type": "code",
   "execution_count": 19,
   "metadata": {},
   "outputs": [
    {
     "name": "stdout",
     "output_type": "stream",
     "text": [
      "[ 0.          1.11111111  2.22222222  3.33333333  4.44444444  5.55555556\n",
      "  6.66666667  7.77777778  8.88888889 10.        ]\n",
      "[  0.           5.05050505  10.1010101   15.15151515  20.2020202\n",
      "  25.25252525  30.3030303   35.35353535  40.4040404   45.45454545\n",
      "  50.50505051  55.55555556  60.60606061  65.65656566  70.70707071\n",
      "  75.75757576  80.80808081  85.85858586  90.90909091  95.95959596\n",
      " 101.01010101 106.06060606 111.11111111 116.16161616 121.21212121\n",
      " 126.26262626 131.31313131 136.36363636 141.41414141 146.46464646\n",
      " 151.51515152 156.56565657 161.61616162 166.66666667 171.71717172\n",
      " 176.76767677 181.81818182 186.86868687 191.91919192 196.96969697\n",
      " 202.02020202 207.07070707 212.12121212 217.17171717 222.22222222\n",
      " 227.27272727 232.32323232 237.37373737 242.42424242 247.47474747\n",
      " 252.52525253 257.57575758 262.62626263 267.67676768 272.72727273\n",
      " 277.77777778 282.82828283 287.87878788 292.92929293 297.97979798\n",
      " 303.03030303 308.08080808 313.13131313 318.18181818 323.23232323\n",
      " 328.28282828 333.33333333 338.38383838 343.43434343 348.48484848\n",
      " 353.53535354 358.58585859 363.63636364 368.68686869 373.73737374\n",
      " 378.78787879 383.83838384 388.88888889 393.93939394 398.98989899\n",
      " 404.04040404 409.09090909 414.14141414 419.19191919 424.24242424\n",
      " 429.29292929 434.34343434 439.39393939 444.44444444 449.49494949\n",
      " 454.54545455 459.5959596  464.64646465 469.6969697  474.74747475\n",
      " 479.7979798  484.84848485 489.8989899  494.94949495 500.        ]\n"
     ]
    }
   ],
   "source": [
    "x = np.linspace(0, 10 ,10)\n",
    "print(x)\n",
    "x1 = np.linspace(0, 500, 100)\n",
    "print(x1)"
   ]
  },
  {
   "cell_type": "code",
   "execution_count": 20,
   "metadata": {},
   "outputs": [
    {
     "name": "stdout",
     "output_type": "stream",
     "text": [
      "[0. 0. 0. 0. 0. 0. 0. 0. 0. 0.]\n",
      "[[0. 0. 0.]\n",
      " [0. 0. 0.]]\n"
     ]
    }
   ],
   "source": [
    "z = np.zeros(10)\n",
    "print(z)\n",
    "z1 = np.zeros((2,3))\n",
    "print(z1)"
   ]
  },
  {
   "cell_type": "code",
   "execution_count": 21,
   "metadata": {},
   "outputs": [
    {
     "name": "stdout",
     "output_type": "stream",
     "text": [
      "[[1. 1. 1. 1. 1.]\n",
      " [1. 1. 1. 1. 1.]\n",
      " [1. 1. 1. 1. 1.]\n",
      " [1. 1. 1. 1. 1.]]\n"
     ]
    }
   ],
   "source": [
    "o = np.ones((4,5))\n",
    "print(o)"
   ]
  },
  {
   "cell_type": "code",
   "execution_count": 23,
   "metadata": {},
   "outputs": [
    {
     "name": "stdout",
     "output_type": "stream",
     "text": [
      "[[1 0 0 0 0]\n",
      " [0 1 0 0 0]\n",
      " [0 0 1 0 0]\n",
      " [0 0 0 1 0]\n",
      " [0 0 0 0 1]]\n"
     ]
    }
   ],
   "source": [
    "e = np.eye(5,dtype=int)\n",
    "print(e)"
   ]
  },
  {
   "cell_type": "code",
   "execution_count": 26,
   "metadata": {},
   "outputs": [
    {
     "data": {
      "text/plain": [
       "array([[0.23628954, 0.2699131 , 0.90940394],\n",
       "       [0.09388586, 0.85229048, 0.02173366],\n",
       "       [0.14946062, 0.79702113, 0.02823907]])"
      ]
     },
     "execution_count": 26,
     "metadata": {},
     "output_type": "execute_result"
    }
   ],
   "source": [
    "np.random.rand(3,3)"
   ]
  },
  {
   "cell_type": "code",
   "execution_count": 27,
   "metadata": {},
   "outputs": [
    {
     "data": {
      "text/plain": [
       "array([[-1.20294601,  1.49712687, -1.85278039],\n",
       "       [-0.9233456 ,  0.3455744 ,  0.36644545],\n",
       "       [-0.41909283, -0.38309973, -1.25791293]])"
      ]
     },
     "execution_count": 27,
     "metadata": {},
     "output_type": "execute_result"
    }
   ],
   "source": [
    "np.random.randn(3,3)"
   ]
  },
  {
   "cell_type": "code",
   "execution_count": 28,
   "metadata": {},
   "outputs": [
    {
     "data": {
      "text/plain": [
       "array([[-5,  0, -4,  2, -6],\n",
       "       [ 1,  7,  4,  3,  0],\n",
       "       [-3, -5, -6,  7, -8],\n",
       "       [ 5, -8, -6, -6,  6],\n",
       "       [-9,  1,  5, -5, -4]])"
      ]
     },
     "execution_count": 28,
     "metadata": {},
     "output_type": "execute_result"
    }
   ],
   "source": [
    "np.random.randint(-10, 10, (5,5))"
   ]
  },
  {
   "cell_type": "markdown",
   "metadata": {},
   "source": [
    "matrix operations\n",
    "##### basic maths\n",
    "- +, -, *,/,%,//,**\n",
    "- dot() #matrix multiplication \n",
    "##### basic stasticstics\n",
    "- sum() # sum of all elements\n",
    "- min() #minimum a"
   ]
  },
  {
   "cell_type": "code",
   "execution_count": 7,
   "metadata": {},
   "outputs": [
    {
     "name": "stdout",
     "output_type": "stream",
     "text": [
      "[[58 50 33 12 83 47]\n",
      " [43 77 79 90 21 93]\n",
      " [62 20  2 64 80 53]\n",
      " [43 15 12 93  9 56]]\n"
     ]
    }
   ],
   "source": [
    "x = np.random.randint(1,100,(4 ,6))\n",
    "print(x)"
   ]
  },
  {
   "cell_type": "code",
   "execution_count": 10,
   "metadata": {},
   "outputs": [
    {
     "name": "stdout",
     "output_type": "stream",
     "text": [
      "1195\n",
      "[206 162 126 259 193 249]\n",
      "[283 403 281 228]\n"
     ]
    }
   ],
   "source": [
    "# sum of all values\n",
    "total = x.sum() #or np.sum()\n",
    "print(total)\n",
    "# sum of each column \n",
    "col_total = x.sum(axis=0)\n",
    "print(col_total)\n",
    "# sum of each row\n",
    "row_total = x.sum(axis=1)\n",
    "print(row_total)"
   ]
  },
  {
   "cell_type": "code",
   "execution_count": 11,
   "metadata": {},
   "outputs": [
    {
     "data": {
      "text/plain": [
       "49.791666666666664"
      ]
     },
     "execution_count": 11,
     "metadata": {},
     "output_type": "execute_result"
    }
   ],
   "source": [
    "x.mean()"
   ]
  },
  {
   "cell_type": "code",
   "execution_count": 17,
   "metadata": {},
   "outputs": [
    {
     "name": "stdout",
     "output_type": "stream",
     "text": [
      "51.5\n"
     ]
    }
   ],
   "source": [
    "#median\n",
    "print(np.median(x))\n",
    "#most common value "
   ]
  },
  {
   "cell_type": "code",
   "execution_count": 18,
   "metadata": {},
   "outputs": [
    {
     "data": {
      "text/plain": [
       "-0.5440211108893698"
      ]
     },
     "execution_count": 18,
     "metadata": {},
     "output_type": "execute_result"
    }
   ],
   "source": [
    "np.sin(10)"
   ]
  },
  {
   "cell_type": "code",
   "execution_count": 19,
   "metadata": {},
   "outputs": [
    {
     "data": {
      "text/plain": [
       "0.8509035245341184"
      ]
     },
     "execution_count": 19,
     "metadata": {},
     "output_type": "execute_result"
    }
   ],
   "source": [
    "np.sin(45)"
   ]
  },
  {
   "cell_type": "code",
   "execution_count": 20,
   "metadata": {},
   "outputs": [
    {
     "data": {
      "text/plain": [
       "array([[ 0.99287265, -0.26237485,  0.99991186, -0.53657292,  0.96836446,\n",
       "         0.12357312],\n",
       "       [-0.83177474,  0.99952016, -0.44411267,  0.89399666,  0.83665564,\n",
       "        -0.94828214],\n",
       "       [-0.7391807 ,  0.91294525,  0.90929743,  0.92002604, -0.99388865,\n",
       "         0.39592515],\n",
       "       [-0.83177474,  0.65028784, -0.53657292, -0.94828214,  0.41211849,\n",
       "        -0.521551  ]])"
      ]
     },
     "execution_count": 20,
     "metadata": {},
     "output_type": "execute_result"
    }
   ],
   "source": [
    "np.sin(x)"
   ]
  },
  {
   "cell_type": "code",
   "execution_count": 22,
   "metadata": {},
   "outputs": [
    {
     "data": {
      "text/plain": [
       "1627389952"
      ]
     },
     "execution_count": 22,
     "metadata": {},
     "output_type": "execute_result"
    }
   ],
   "source": [
    "x.prod() #product of all values"
   ]
  },
  {
   "cell_type": "code",
   "execution_count": 24,
   "metadata": {},
   "outputs": [
    {
     "data": {
      "text/plain": [
       "-2.0000000000000004"
      ]
     },
     "execution_count": 24,
     "metadata": {},
     "output_type": "execute_result"
    }
   ],
   "source": [
    "#determinant\n",
    "x = np.array(([1,2],[3,4]))\n",
    "np.linalg.det(x)"
   ]
  },
  {
   "cell_type": "code",
   "execution_count": 30,
   "metadata": {},
   "outputs": [
    {
     "name": "stdout",
     "output_type": "stream",
     "text": [
      "[[3 0 4 0 3]\n",
      " [6 8 2 0 5]\n",
      " [9 5 3 0 6]\n",
      " [4 2 2 2 1]\n",
      " [9 7 1 1 3]]\n",
      "checking if there is no zeros in the matrix\n",
      "False\n"
     ]
    }
   ],
   "source": [
    "y = np.random.randint(0, 10, (5,5))\n",
    "print(y)\n",
    "print('checking if there is no zeros in the matrix')\n",
    "print(np.all(y)) #or y.all()"
   ]
  },
  {
   "cell_type": "code",
   "execution_count": 32,
   "metadata": {},
   "outputs": [
    {
     "name": "stdout",
     "output_type": "stream",
     "text": [
      "[[0 1 0]\n",
      " [0 0 0]\n",
      " [0 0 0]]\n",
      "checking if there is at least one +/- value in the matrix\n",
      "True\n"
     ]
    }
   ],
   "source": [
    "z = np.random.choice([0,1,0,0], (3,3))\n",
    "print(z)\n",
    "print('checking if there is at least one +/- value in the matrix')\n",
    "print(z.any())"
   ]
  },
  {
   "cell_type": "code",
   "execution_count": 39,
   "metadata": {},
   "outputs": [
    {
     "name": "stdout",
     "output_type": "stream",
     "text": [
      "shape (4, 4)\n",
      "x\n",
      "[[6 8 2 2]\n",
      " [4 7 9 6]\n",
      " [4 1 9 1]\n",
      " [6 1 9 1]]\n",
      "x transposed\n",
      "[[6 4 4 6]\n",
      " [8 7 1 1]\n",
      " [2 9 9 9]\n",
      " [2 6 1 1]]\n",
      "x flattened\n",
      "[6 4 4 6 8 7 1 1 2 9 9 9 2 6 1 1]\n"
     ]
    }
   ],
   "source": [
    "x = np.random.randint(1, 10, (4,4))\n",
    "print('shape', x.shape)\n",
    "print('x')\n",
    "print(x)\n",
    "x = x.T #transpose\n",
    "print('x transposed')\n",
    "print(x)\n",
    "x = x.flatten()\n",
    "print('x flattened')\n",
    "print(x)"
   ]
  },
  {
   "cell_type": "code",
   "execution_count": 40,
   "metadata": {},
   "outputs": [
    {
     "data": {
      "text/plain": [
       "array([[6, 4],\n",
       "       [4, 6],\n",
       "       [8, 7],\n",
       "       [1, 1],\n",
       "       [2, 9],\n",
       "       [9, 9],\n",
       "       [2, 6],\n",
       "       [1, 1]])"
      ]
     },
     "execution_count": 40,
     "metadata": {},
     "output_type": "execute_result"
    }
   ],
   "source": [
    "x.reshape(8,2)\n"
   ]
  },
  {
   "cell_type": "code",
   "execution_count": 41,
   "metadata": {},
   "outputs": [
    {
     "data": {
      "text/plain": [
       "array([[6, 4, 4, 6, 8, 7, 1, 1, 2, 9, 9, 9, 2, 6, 1, 1]])"
      ]
     },
     "execution_count": 41,
     "metadata": {},
     "output_type": "execute_result"
    }
   ],
   "source": [
    "x.reshape(1,16)"
   ]
  },
  {
   "cell_type": "markdown",
   "metadata": {},
   "source": [
    "# slicing and filtering"
   ]
  },
  {
   "cell_type": "code",
   "execution_count": 49,
   "metadata": {},
   "outputs": [
    {
     "name": "stdout",
     "output_type": "stream",
     "text": [
      "2 dimension\n",
      "36 elements\n",
      "[[4 7 3 3 6 5]\n",
      " [3 6 1 1 8 9]\n",
      " [3 2 6 4 7 9]\n",
      " [8 6 8 2 7 4]\n",
      " [2 8 3 3 8 5]\n",
      " [7 5 7 3 9 5]]\n",
      "first row [4 7 3 3 6 5]\n",
      "last row [7 5 7 3 9 5]\n",
      "first 3 rows\n",
      " [[2 8 3 3 8 5]\n",
      " [7 5 7 3 9 5]]\n",
      "first column\n",
      " [4 3 3 8 2 7]\n",
      "first column\n",
      " [5 9 9 4 5 5]\n",
      "first column\n",
      " [[4 7 3]\n",
      " [3 6 1]\n",
      " [3 2 6]\n",
      " [8 6 8]\n",
      " [2 8 3]\n",
      " [7 5 7]]\n",
      "first column\n",
      " [[2 8 3 3 8 5]\n",
      " [7 5 7 3 9 5]]\n"
     ]
    }
   ],
   "source": [
    "y = np.random.randint(1, 10, (6,6))\n",
    "print(y.ndim, 'dimension')\n",
    "print(y.size, 'elements')\n",
    "print(y)\n",
    "print('first row',y[0])\n",
    "print('last row',y[-1])\n",
    "print('first 3 rows\\n',y[-2:])\n",
    "#slicing for 2d\n",
    "# arr[row, col]\n",
    "print('first column\\n',y[:,-0])\n",
    "print('first column\\n',y[:, -1])\n",
    "print('first column\\n',y[:,:3])\n",
    "print('first column\\n',y[-2:])"
   ]
  },
  {
   "cell_type": "code",
   "execution_count": 51,
   "metadata": {},
   "outputs": [
    {
     "name": "stdout",
     "output_type": "stream",
     "text": [
      "first column\n",
      " []\n",
      "last column\n",
      " [5 9 9 4 5 5]\n",
      "first 3 column\n",
      " [[4 7 3]\n",
      " [3 6 1]\n",
      " [3 2 6]\n",
      " [8 6 8]\n",
      " [2 8 3]\n",
      " [7 5 7]]\n",
      "last 2 column\n",
      " [[6 5]\n",
      " [8 9]\n",
      " [7 9]\n",
      " [7 4]\n",
      " [8 5]\n",
      " [9 5]]\n"
     ]
    }
   ],
   "source": [
    "#slicing for 2d object\n",
    "# arr[row, col]\n",
    "print('first column\\n',y[:-0])\n",
    "print('last column\\n',y[:,-1])\n",
    "print('first 3 column\\n',y[:,:3])\n",
    "print('last 2 column\\n',y[:,-2:])"
   ]
  },
  {
   "cell_type": "code",
   "execution_count": 52,
   "metadata": {},
   "outputs": [
    {
     "data": {
      "text/plain": [
       "array([[False,  True, False, False,  True, False],\n",
       "       [False,  True, False, False,  True,  True],\n",
       "       [False, False,  True, False,  True,  True],\n",
       "       [ True,  True,  True, False,  True, False],\n",
       "       [False,  True, False, False,  True, False],\n",
       "       [ True, False,  True, False,  True, False]])"
      ]
     },
     "execution_count": 52,
     "metadata": {},
     "output_type": "execute_result"
    }
   ],
   "source": [
    "y > 5 #boolean filter"
   ]
  },
  {
   "cell_type": "code",
   "execution_count": 54,
   "metadata": {},
   "outputs": [
    {
     "data": {
      "text/plain": [
       "array([7, 6, 6, 8, 9, 6, 7, 9, 8, 6, 8, 7, 8, 8, 7, 7, 9])"
      ]
     },
     "execution_count": 54,
     "metadata": {},
     "output_type": "execute_result"
    }
   ],
   "source": [
    "y[y > 5] #using boolean filter"
   ]
  },
  {
   "cell_type": "code",
   "execution_count": 55,
   "metadata": {},
   "outputs": [
    {
     "data": {
      "text/plain": [
       "array([1, 1, 2, 2, 2])"
      ]
     },
     "execution_count": 55,
     "metadata": {},
     "output_type": "execute_result"
    }
   ],
   "source": [
    "y[y < 3]"
   ]
  },
  {
   "cell_type": "code",
   "execution_count": 57,
   "metadata": {},
   "outputs": [
    {
     "data": {
      "text/plain": [
       "array([4, 3, 3, 5, 3, 3, 4, 4, 3, 3, 5, 5, 3, 5])"
      ]
     },
     "execution_count": 57,
     "metadata": {},
     "output_type": "execute_result"
    }
   ],
   "source": [
    "y[(y>=3) & (y<=5)] #3 <= y <= 5"
   ]
  },
  {
   "cell_type": "code",
   "execution_count": null,
   "metadata": {},
   "outputs": [],
   "source": []
  }
 ],
 "metadata": {
  "kernelspec": {
   "display_name": "base",
   "language": "python",
   "name": "python3"
  },
  "language_info": {
   "codemirror_mode": {
    "name": "ipython",
    "version": 3
   },
   "file_extension": ".py",
   "mimetype": "text/x-python",
   "name": "python",
   "nbconvert_exporter": "python",
   "pygments_lexer": "ipython3",
   "version": "3.11.5"
  }
 },
 "nbformat": 4,
 "nbformat_minor": 2
}
